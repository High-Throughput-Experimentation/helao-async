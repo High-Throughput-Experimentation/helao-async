{
 "cells": [
  {
   "cell_type": "code",
   "execution_count": 1,
   "id": "12d9ddef-f329-406d-8222-b78ee143ca10",
   "metadata": {
    "execution": {
     "iopub.execute_input": "2022-05-12T01:30:21.357448Z",
     "iopub.status.busy": "2022-05-12T01:30:21.356987Z",
     "iopub.status.idle": "2022-05-12T01:30:21.889625Z",
     "shell.execute_reply": "2022-05-12T01:30:21.887619Z",
     "shell.execute_reply.started": "2022-05-12T01:30:21.357405Z"
    },
    "tags": []
   },
   "outputs": [],
   "source": [
    "import sys\n",
    "import random \n",
    "import requests\n",
    "import numpy as np\n",
    "\n",
    "# assumes working directory is notebook location\n",
    "corepath = \"../../../helao-core\"\n",
    "sys.path.append(corepath)\n",
    "sys.path.append(\"../..\")\n",
    "from helaocore.schema import Sequence\n",
    "from helaocore.model.experiment import ExperimentTemplate\n",
    "import helao.experiment.simulate_exp\n",
    "from simulate_dev import config as global_cfg\n",
    "\n",
    "cfg = global_cfg['servers']"
   ]
  },
  {
   "cell_type": "markdown",
   "id": "175d834e-f7a5-4151-8d71-db82fb5618c6",
   "metadata": {
    "tags": []
   },
   "source": [
    "# request explorable space"
   ]
  },
  {
   "cell_type": "code",
   "execution_count": 2,
   "id": "13dc15d8-2c2a-45b1-ae3c-a0ad0796dd73",
   "metadata": {
    "execution": {
     "iopub.execute_input": "2022-05-12T01:30:21.895071Z",
     "iopub.status.busy": "2022-05-12T01:30:21.893789Z",
     "iopub.status.idle": "2022-05-12T01:30:22.222533Z",
     "shell.execute_reply": "2022-05-12T01:30:22.221878Z",
     "shell.execute_reply.started": "2022-05-12T01:30:21.894966Z"
    },
    "tags": []
   },
   "outputs": [
    {
     "data": {
      "text/plain": [
       "True"
      ]
     },
     "execution_count": 2,
     "metadata": {},
     "output_type": "execute_result"
    }
   ],
   "source": [
    "# use robotic sampler 'PAL' action server as placeholder for sample database server\n",
    "resp = requests.post(f\"http://{cfg['PAL']['host']}:{cfg['PAL']['port']}/list_all_spaces\")\n",
    "resp.status_code == 200"
   ]
  },
  {
   "cell_type": "code",
   "execution_count": 3,
   "id": "4a86cdc9-7bfe-4cd1-a845-d07ec488a2b4",
   "metadata": {
    "execution": {
     "iopub.execute_input": "2022-05-12T01:30:22.223148Z",
     "iopub.status.busy": "2022-05-12T01:30:22.222980Z",
     "iopub.status.idle": "2022-05-12T01:30:22.254349Z",
     "shell.execute_reply": "2022-05-12T01:30:22.253975Z",
     "shell.execute_reply.started": "2022-05-12T01:30:22.223133Z"
    },
    "tags": []
   },
   "outputs": [
    {
     "data": {
      "text/plain": [
       "[(['Co', 'Mn', 'Sn', 'Mg', 'Zn', 'Ca'], 3),\n",
       " (['Co', 'Mn', 'Sn', 'Mg', 'Zn', 'Ca'], 7),\n",
       " (['Co', 'Mn', 'Sn', 'Mg', 'Zn', 'Ca'], 9),\n",
       " (['Co', 'Mn', 'Sn', 'Mg', 'Zn', 'Ca'], 13),\n",
       " (['Fe', 'Co', 'Ta', 'Mn', 'Cu', 'Sn'], 3),\n",
       " (['Fe', 'Co', 'Ta', 'Mn', 'Cu', 'Sn'], 7),\n",
       " (['Fe', 'Co', 'Ta', 'Mn', 'Cu', 'Sn'], 9),\n",
       " (['Fe', 'Co', 'Ta', 'Mn', 'Cu', 'Sn'], 13),\n",
       " (['Ni', 'Fe', 'Co', 'Ta', 'Mn', 'Cu'], 3),\n",
       " (['Ni', 'Fe', 'Co', 'Ta', 'Mn', 'Cu'], 7),\n",
       " (['Ni', 'Fe', 'Co', 'Ta', 'Mn', 'Cu'], 9),\n",
       " (['Ni', 'Fe', 'Co', 'Ta', 'Mn', 'Cu'], 13),\n",
       " (['Ni', 'Fe', 'La', 'Ce', 'Co', 'Ta'], 3),\n",
       " (['Ni', 'Fe', 'La', 'Ce', 'Co', 'Ta'], 7),\n",
       " (['Ni', 'Fe', 'La', 'Ce', 'Co', 'Ta'], 9),\n",
       " (['Ni', 'Fe', 'La', 'Ce', 'Co', 'Ta'], 13)]"
      ]
     },
     "execution_count": 3,
     "metadata": {},
     "output_type": "execute_result"
    }
   ],
   "source": [
    "# available composition,pH spaces\n",
    "sorted([(d['elements'], d['solution_ph']) for d in resp.json()])"
   ]
  },
  {
   "cell_type": "markdown",
   "id": "d76fb3cb-6133-41de-bf05-f5f0989cc709",
   "metadata": {},
   "source": [
    "### terminology\n",
    "- a 'sequence' is a queue of experiments performed in order\n",
    "- an 'experiment' is a queue of actions performed in order\n",
    "- _side note:_ one or more ESAMP processes may be created from an experiment\n",
    "- an 'action' is the atomic request dispatched by the Orchestrator to individual action servers\n",
    "- an 'action server' exposes hardware driver and data management functions via FastAPI\n",
    "- an 'Orchestrator' manages the queing and dispatch sequences, experiments, and action requests"
   ]
  },
  {
   "cell_type": "code",
   "execution_count": 4,
   "id": "8a559f7f-d17f-4dfe-a014-86684480c002",
   "metadata": {
    "execution": {
     "iopub.execute_input": "2022-05-12T01:30:22.255406Z",
     "iopub.status.busy": "2022-05-12T01:30:22.255184Z",
     "iopub.status.idle": "2022-05-12T01:30:22.292957Z",
     "shell.execute_reply": "2022-05-12T01:30:22.292442Z",
     "shell.execute_reply.started": "2022-05-12T01:30:22.255391Z"
    },
    "tags": []
   },
   "outputs": [
    {
     "data": {
      "text/plain": [
       "['SIM_measure_CP']"
      ]
     },
     "execution_count": 4,
     "metadata": {},
     "output_type": "execute_result"
    }
   ],
   "source": [
    "# valid experiment names\n",
    "helao.experiment.simulate_exp.__all__"
   ]
  },
  {
   "cell_type": "code",
   "execution_count": 5,
   "id": "0d546d89-4168-46c5-9eeb-7a1c02e3f4a6",
   "metadata": {
    "execution": {
     "iopub.execute_input": "2022-05-12T01:30:22.293936Z",
     "iopub.status.busy": "2022-05-12T01:30:22.293710Z",
     "iopub.status.idle": "2022-05-12T01:30:22.297598Z",
     "shell.execute_reply": "2022-05-12T01:30:22.297084Z",
     "shell.execute_reply.started": "2022-05-12T01:30:22.293917Z"
    },
    "tags": []
   },
   "outputs": [
    {
     "data": {
      "text/plain": [
       "<function helao.experiment.simulate_exp.SIM_measure_CP(experiment: helaocore.schema.Experiment, experiment_version: int = 1, solution_ph: Optional[int] = 13, elements: Optional[List[str]] = [], element_fracs: Optional[List[float]] = [])>"
      ]
     },
     "execution_count": 5,
     "metadata": {},
     "output_type": "execute_result"
    }
   ],
   "source": [
    "from helao.experiment.simulate_exp import SIM_measure_CP\n",
    "SIM_measure_CP"
   ]
  },
  {
   "cell_type": "markdown",
   "id": "e91396ec-ff6a-44c6-8ed5-74fbbbdfaeeb",
   "metadata": {},
   "source": [
    "- `SIM_measure_CP` is the only experiment available in this simulator\n",
    "- `SIM_measure_CP` has 3 real arguments: `solution_ph`, `elements`, and `element_fracs`\n",
    "- args `experiment` and `experiment_version` are managed by orchestrator"
   ]
  },
  {
   "cell_type": "markdown",
   "id": "514161ba-6d79-481d-b72b-8b822bf771c8",
   "metadata": {},
   "source": [
    "# example Ni-Fe-La-Ce-Co-Ta @ pH=13"
   ]
  },
  {
   "cell_type": "code",
   "execution_count": 6,
   "id": "119282d7-a908-49fd-b91c-4dfe0c5761a9",
   "metadata": {
    "execution": {
     "iopub.execute_input": "2022-05-12T01:30:22.298566Z",
     "iopub.status.busy": "2022-05-12T01:30:22.298297Z",
     "iopub.status.idle": "2022-05-12T01:30:22.302145Z",
     "shell.execute_reply": "2022-05-12T01:30:22.301712Z",
     "shell.execute_reply.started": "2022-05-12T01:30:22.298545Z"
    },
    "tags": []
   },
   "outputs": [
    {
     "data": {
      "text/plain": [
       "'[\"Ni\", \"Fe\", \"La\", \"Ce\", \"Co\", \"Ta\"]'"
      ]
     },
     "execution_count": 6,
     "metadata": {},
     "output_type": "execute_result"
    }
   ],
   "source": [
    "import json\n",
    "json.dumps(['Ni', 'Fe', 'La', 'Ce', 'Co', 'Ta'])"
   ]
  },
  {
   "cell_type": "code",
   "execution_count": 7,
   "id": "fe0b3e71-ef1c-4d64-9ee8-60d1ab694ed1",
   "metadata": {
    "execution": {
     "iopub.execute_input": "2022-05-12T01:30:22.303153Z",
     "iopub.status.busy": "2022-05-12T01:30:22.302873Z",
     "iopub.status.idle": "2022-05-12T01:30:22.333594Z",
     "shell.execute_reply": "2022-05-12T01:30:22.333130Z",
     "shell.execute_reply.started": "2022-05-12T01:30:22.303135Z"
    },
    "tags": []
   },
   "outputs": [
    {
     "data": {
      "text/plain": [
       "2051"
      ]
     },
     "execution_count": 7,
     "metadata": {},
     "output_type": "execute_result"
    }
   ],
   "source": [
    "# get addressable composition space from previous request\n",
    "elements = ['Ni', 'Fe', 'La', 'Ce', 'Co', 'Ta']\n",
    "solution_ph = 13\n",
    "\n",
    "comp_space = [x for x in resp.json() if x['elements']==elements and x['solution_ph']==solution_ph][0]['element_fracs']\n",
    "len(comp_space)"
   ]
  },
  {
   "cell_type": "code",
   "execution_count": 8,
   "id": "1a3adc2d-aa51-424a-9739-e9f5519a2bd1",
   "metadata": {
    "execution": {
     "iopub.execute_input": "2022-05-12T01:30:22.334520Z",
     "iopub.status.busy": "2022-05-12T01:30:22.334271Z",
     "iopub.status.idle": "2022-05-12T01:30:22.338499Z",
     "shell.execute_reply": "2022-05-12T01:30:22.338032Z",
     "shell.execute_reply.started": "2022-05-12T01:30:22.334500Z"
    },
    "tags": []
   },
   "outputs": [
    {
     "data": {
      "text/plain": [
       "[[0.1, 0.2, 0.0, 0.0, 0.6, 0.1],\n",
       " [0.0, 0.3, 0.0, 0.2, 0.5, 0.0],\n",
       " [0.2, 0.0, 0.1, 0.0, 0.4, 0.3],\n",
       " [0.1, 0.0, 0.4, 0.1, 0.4, 0.0],\n",
       " [0.2, 0.1, 0.2, 0.0, 0.0, 0.5]]"
      ]
     },
     "execution_count": 8,
     "metadata": {},
     "output_type": "execute_result"
    }
   ],
   "source": [
    "comp_space[:5]"
   ]
  },
  {
   "cell_type": "code",
   "execution_count": 9,
   "id": "763680ae-662c-4deb-bc6d-8b3171768c11",
   "metadata": {
    "execution": {
     "iopub.execute_input": "2022-05-12T01:30:22.339311Z",
     "iopub.status.busy": "2022-05-12T01:30:22.339103Z",
     "iopub.status.idle": "2022-05-12T01:30:22.342021Z",
     "shell.execute_reply": "2022-05-12T01:30:22.341599Z",
     "shell.execute_reply.started": "2022-05-12T01:30:22.339291Z"
    },
    "tags": []
   },
   "outputs": [],
   "source": [
    "# initial random seed of compositions\n",
    "random.seed(0)\n",
    "comp_inds = random.sample(range(len(comp_space)), 5)"
   ]
  },
  {
   "cell_type": "code",
   "execution_count": 10,
   "id": "2bfacec0-4ed2-401f-b30e-2c00cf33d386",
   "metadata": {
    "execution": {
     "iopub.execute_input": "2022-05-12T01:30:22.343473Z",
     "iopub.status.busy": "2022-05-12T01:30:22.343261Z",
     "iopub.status.idle": "2022-05-12T01:30:22.345870Z",
     "shell.execute_reply": "2022-05-12T01:30:22.345500Z",
     "shell.execute_reply.started": "2022-05-12T01:30:22.343454Z"
    },
    "tags": []
   },
   "outputs": [],
   "source": [
    "# when HELAO server group is first launched, there is no plate library loaded and therefore no available composition space to query\n",
    "# the `SIM_measure_CP` experiment performs 9 actions, the first of which is to load a plate library"
   ]
  },
  {
   "cell_type": "code",
   "execution_count": 11,
   "id": "945d1b02-9986-4e43-913c-c471725757a9",
   "metadata": {
    "execution": {
     "iopub.execute_input": "2022-05-12T01:30:22.346676Z",
     "iopub.status.busy": "2022-05-12T01:30:22.346449Z",
     "iopub.status.idle": "2022-05-12T01:30:22.349683Z",
     "shell.execute_reply": "2022-05-12T01:30:22.349004Z",
     "shell.execute_reply.started": "2022-05-12T01:30:22.346656Z"
    },
    "tags": []
   },
   "outputs": [],
   "source": [
    "# create sequence object for holding experiments\n",
    "sequence = Sequence(sequence_name='seed_sequence')"
   ]
  },
  {
   "cell_type": "code",
   "execution_count": 12,
   "id": "11719005-42cc-4ad9-b27c-a23015a797a2",
   "metadata": {
    "execution": {
     "iopub.execute_input": "2022-05-12T01:30:22.350469Z",
     "iopub.status.busy": "2022-05-12T01:30:22.350265Z",
     "iopub.status.idle": "2022-05-12T01:30:22.353817Z",
     "shell.execute_reply": "2022-05-12T01:30:22.353247Z",
     "shell.execute_reply.started": "2022-05-12T01:30:22.350451Z"
    },
    "tags": []
   },
   "outputs": [],
   "source": [
    "for i in comp_inds:\n",
    "    sequence.experiment_plan_list.append(\n",
    "        ExperimentTemplate(\n",
    "            experiment_name=\"SIM_measure_CP\",\n",
    "            experiment_params={\n",
    "                \"solution_ph\": 13,\n",
    "                \"elements\": [\"Ni\", \"Fe\", \"La\", \"Ce\", \"Co\", \"Ta\"],\n",
    "                \"element_fracs\": comp_space[i],\n",
    "            },\n",
    "        )\n",
    "    )"
   ]
  },
  {
   "cell_type": "code",
   "execution_count": 13,
   "id": "821176cf-2545-4d96-9b54-630d3da987de",
   "metadata": {
    "execution": {
     "iopub.execute_input": "2022-05-12T01:30:22.354711Z",
     "iopub.status.busy": "2022-05-12T01:30:22.354488Z",
     "iopub.status.idle": "2022-05-12T01:30:22.360734Z",
     "shell.execute_reply": "2022-05-12T01:30:22.360350Z",
     "shell.execute_reply.started": "2022-05-12T01:30:22.354690Z"
    },
    "tags": []
   },
   "outputs": [
    {
     "data": {
      "text/plain": [
       "{'sequence_name': 'seed_sequence',\n",
       " 'sequence_params': {},\n",
       " 'sequence_label': 'noLabel',\n",
       " 'experiment_plan_list': [{'experiment_name': 'SIM_measure_CP',\n",
       "   'experiment_params': {'solution_ph': 13,\n",
       "    'elements': ['Ni', 'Fe', 'La', 'Ce', 'Co', 'Ta'],\n",
       "    'element_fracs': [0.0, 0.1, 0.8, 0.0, 0.0, 0.1]}},\n",
       "  {'experiment_name': 'SIM_measure_CP',\n",
       "   'experiment_params': {'solution_ph': 13,\n",
       "    'elements': ['Ni', 'Fe', 'La', 'Ce', 'Co', 'Ta'],\n",
       "    'element_fracs': [0.0, 0.3, 0.3, 0.0, 0.4, 0.0]}},\n",
       "  {'experiment_name': 'SIM_measure_CP',\n",
       "   'experiment_params': {'solution_ph': 13,\n",
       "    'elements': ['Ni', 'Fe', 'La', 'Ce', 'Co', 'Ta'],\n",
       "    'element_fracs': [0.0, 0.0, 0.2, 0.0, 0.2, 0.6]}},\n",
       "  {'experiment_name': 'SIM_measure_CP',\n",
       "   'experiment_params': {'solution_ph': 13,\n",
       "    'elements': ['Ni', 'Fe', 'La', 'Ce', 'Co', 'Ta'],\n",
       "    'element_fracs': [0.0, 0.0, 0.4, 0.3, 0.2, 0.1]}},\n",
       "  {'experiment_name': 'SIM_measure_CP',\n",
       "   'experiment_params': {'solution_ph': 13,\n",
       "    'elements': ['Ni', 'Fe', 'La', 'Ce', 'Co', 'Ta'],\n",
       "    'element_fracs': [0.2, 0.0, 0.3, 0.5, 0.0, 0.0]}}],\n",
       " 'hlo_version': '2022.02.14',\n",
       " 'access': 'hte',\n",
       " 'dummy': False,\n",
       " 'sequence_uuid': None,\n",
       " 'sequence_timestamp': None,\n",
       " 'sequence_status': [],\n",
       " 'sequence_output_dir': None,\n",
       " 'experiment_list': [],\n",
       " 'experimentmodel_list': []}"
      ]
     },
     "execution_count": 13,
     "metadata": {},
     "output_type": "execute_result"
    }
   ],
   "source": [
    "sequence.as_dict()"
   ]
  },
  {
   "cell_type": "code",
   "execution_count": 14,
   "id": "d2cc7a74-c901-48b9-b8fa-b5d94b10514b",
   "metadata": {
    "execution": {
     "iopub.execute_input": "2022-05-12T01:30:22.361480Z",
     "iopub.status.busy": "2022-05-12T01:30:22.361281Z",
     "iopub.status.idle": "2022-05-12T01:30:22.368248Z",
     "shell.execute_reply": "2022-05-12T01:30:22.367797Z",
     "shell.execute_reply.started": "2022-05-12T01:30:22.361465Z"
    },
    "tags": []
   },
   "outputs": [
    {
     "data": {
      "text/plain": [
       "True"
      ]
     },
     "execution_count": 14,
     "metadata": {},
     "output_type": "execute_result"
    }
   ],
   "source": [
    "seq_req = requests.post(f\"http://{cfg['ORCH']['host']}:{cfg['ORCH']['port']}/append_sequence\", json={\"sequence\": sequence.as_dict()})\n",
    "seq_req.status_code == 200  # successful post request"
   ]
  },
  {
   "cell_type": "code",
   "execution_count": 15,
   "id": "8e827999-ef6e-471a-9b97-bb0df320009b",
   "metadata": {
    "execution": {
     "iopub.execute_input": "2022-05-12T01:30:22.368933Z",
     "iopub.status.busy": "2022-05-12T01:30:22.368739Z",
     "iopub.status.idle": "2022-05-12T01:30:22.379736Z",
     "shell.execute_reply": "2022-05-12T01:30:22.379275Z",
     "shell.execute_reply.started": "2022-05-12T01:30:22.368918Z"
    },
    "tags": []
   },
   "outputs": [
    {
     "data": {
      "text/plain": [
       "True"
      ]
     },
     "execution_count": 15,
     "metadata": {},
     "output_type": "execute_result"
    }
   ],
   "source": [
    "orch_list = requests.post(f\"http://{cfg['ORCH']['host']}:{cfg['ORCH']['port']}/list_sequences\")\n",
    "orch_list.status_code == 200  # successful post request"
   ]
  },
  {
   "cell_type": "code",
   "execution_count": 16,
   "id": "fcfffb5d-f738-49aa-8127-47ff1e4cafad",
   "metadata": {
    "execution": {
     "iopub.execute_input": "2022-05-12T01:30:22.380556Z",
     "iopub.status.busy": "2022-05-12T01:30:22.380315Z",
     "iopub.status.idle": "2022-05-12T01:30:22.384641Z",
     "shell.execute_reply": "2022-05-12T01:30:22.384272Z",
     "shell.execute_reply.started": "2022-05-12T01:30:22.380535Z"
    },
    "tags": []
   },
   "outputs": [
    {
     "data": {
      "text/plain": [
       "[{'sequence_name': 'seed_sequence',\n",
       "  'sequence_params': {},\n",
       "  'sequence_label': 'noLabel',\n",
       "  'experiment_plan_list': [{'experiment_name': 'SIM_measure_CP',\n",
       "    'experiment_params': {'solution_ph': 13,\n",
       "     'elements': ['Ni', 'Fe', 'La', 'Ce', 'Co', 'Ta'],\n",
       "     'element_fracs': [0.0, 0.1, 0.8, 0.0, 0.0, 0.1]}},\n",
       "   {'experiment_name': 'SIM_measure_CP',\n",
       "    'experiment_params': {'solution_ph': 13,\n",
       "     'elements': ['Ni', 'Fe', 'La', 'Ce', 'Co', 'Ta'],\n",
       "     'element_fracs': [0.0, 0.3, 0.3, 0.0, 0.4, 0.0]}},\n",
       "   {'experiment_name': 'SIM_measure_CP',\n",
       "    'experiment_params': {'solution_ph': 13,\n",
       "     'elements': ['Ni', 'Fe', 'La', 'Ce', 'Co', 'Ta'],\n",
       "     'element_fracs': [0.0, 0.0, 0.2, 0.0, 0.2, 0.6]}},\n",
       "   {'experiment_name': 'SIM_measure_CP',\n",
       "    'experiment_params': {'solution_ph': 13,\n",
       "     'elements': ['Ni', 'Fe', 'La', 'Ce', 'Co', 'Ta'],\n",
       "     'element_fracs': [0.0, 0.0, 0.4, 0.3, 0.2, 0.1]}},\n",
       "   {'experiment_name': 'SIM_measure_CP',\n",
       "    'experiment_params': {'solution_ph': 13,\n",
       "     'elements': ['Ni', 'Fe', 'La', 'Ce', 'Co', 'Ta'],\n",
       "     'element_fracs': [0.2, 0.0, 0.3, 0.5, 0.0, 0.0]}}],\n",
       "  'hlo_version': '2022.02.14',\n",
       "  'access': 'hte',\n",
       "  'dummy': False,\n",
       "  'sequence_uuid': None,\n",
       "  'sequence_timestamp': None,\n",
       "  'sequence_status': [],\n",
       "  'sequence_output_dir': None,\n",
       "  'experiment_list': []}]"
      ]
     },
     "execution_count": 16,
     "metadata": {},
     "output_type": "execute_result"
    }
   ],
   "source": [
    "orch_list.json() # present sequence queue"
   ]
  },
  {
   "cell_type": "code",
   "execution_count": 17,
   "id": "26872a85-2c24-4325-81a2-1acce0f5506c",
   "metadata": {
    "execution": {
     "iopub.execute_input": "2022-05-12T01:30:34.279625Z",
     "iopub.status.busy": "2022-05-12T01:30:34.279448Z",
     "iopub.status.idle": "2022-05-12T01:30:34.285812Z",
     "shell.execute_reply": "2022-05-12T01:30:34.285396Z",
     "shell.execute_reply.started": "2022-05-12T01:30:34.279611Z"
    },
    "tags": []
   },
   "outputs": [
    {
     "data": {
      "text/plain": [
       "True"
      ]
     },
     "execution_count": 17,
     "metadata": {},
     "output_type": "execute_result"
    }
   ],
   "source": [
    "# start Orch (begin or resume dispatching sequence/experiment/action queues)\n",
    "orch_start = requests.post(f\"http://{cfg['ORCH']['host']}:{cfg['ORCH']['port']}/start\")\n",
    "orch_start.status_code == 200"
   ]
  },
  {
   "cell_type": "code",
   "execution_count": 36,
   "id": "3be4374c-c4b9-4f71-918a-28e83f4741e8",
   "metadata": {
    "execution": {
     "iopub.execute_input": "2022-05-12T01:33:09.464868Z",
     "iopub.status.busy": "2022-05-12T01:33:09.464684Z",
     "iopub.status.idle": "2022-05-12T01:33:09.474304Z",
     "shell.execute_reply": "2022-05-12T01:33:09.473763Z",
     "shell.execute_reply.started": "2022-05-12T01:33:09.464854Z"
    },
    "tags": []
   },
   "outputs": [
    {
     "data": {
      "text/plain": [
       "True"
      ]
     },
     "execution_count": 36,
     "metadata": {},
     "output_type": "execute_result"
    }
   ],
   "source": [
    "# check Orch statuses\n",
    "orch_status = requests.post(f\"http://{cfg['ORCH']['host']}:{cfg['ORCH']['port']}/get_status\")\n",
    "orch_status.status_code == 200"
   ]
  },
  {
   "cell_type": "code",
   "execution_count": 37,
   "id": "f99e242b-6751-456e-a880-1a4019f62653",
   "metadata": {
    "execution": {
     "iopub.execute_input": "2022-05-12T01:33:09.792570Z",
     "iopub.status.busy": "2022-05-12T01:33:09.792381Z",
     "iopub.status.idle": "2022-05-12T01:33:09.795780Z",
     "shell.execute_reply": "2022-05-12T01:33:09.795350Z",
     "shell.execute_reply.started": "2022-05-12T01:33:09.792555Z"
    },
    "tags": []
   },
   "outputs": [
    {
     "data": {
      "text/plain": [
       "dict_keys(['orchestrator', 'active_dict', 'finished_dict', 'loop_intent', 'loop_state', 'orch_state', 'counter_dispatched_actions', 'server_dict'])"
      ]
     },
     "execution_count": 37,
     "metadata": {},
     "output_type": "execute_result"
    }
   ],
   "source": [
    "orch_status.json().keys()"
   ]
  },
  {
   "cell_type": "code",
   "execution_count": 41,
   "id": "8cf8e37a-a5e8-4b18-9ce6-ed7374fe22be",
   "metadata": {
    "execution": {
     "iopub.execute_input": "2022-05-12T01:34:08.898675Z",
     "iopub.status.busy": "2022-05-12T01:34:08.898502Z",
     "iopub.status.idle": "2022-05-12T01:34:08.902417Z",
     "shell.execute_reply": "2022-05-12T01:34:08.902017Z",
     "shell.execute_reply.started": "2022-05-12T01:34:08.898662Z"
    },
    "tags": []
   },
   "outputs": [
    {
     "data": {
      "text/plain": [
       "'9d41876c-3746-486b-bc30-561a106cafe0'"
      ]
     },
     "execution_count": 41,
     "metadata": {},
     "output_type": "execute_result"
    }
   ],
   "source": [
    "list(orch_status.json()['finished_dict']['finished'].items())[0][1]['act']['experiment_uuid']"
   ]
  },
  {
   "cell_type": "code",
   "execution_count": 42,
   "id": "8db8aca1-e037-4102-b926-72547b185b43",
   "metadata": {
    "execution": {
     "iopub.execute_input": "2022-05-12T01:34:18.412139Z",
     "iopub.status.busy": "2022-05-12T01:34:18.411934Z",
     "iopub.status.idle": "2022-05-12T01:34:18.418433Z",
     "shell.execute_reply": "2022-05-12T01:34:18.418003Z",
     "shell.execute_reply.started": "2022-05-12T01:34:18.412122Z"
    },
    "tags": []
   },
   "outputs": [
    {
     "data": {
      "text/plain": [
       "True"
      ]
     },
     "execution_count": 42,
     "metadata": {},
     "output_type": "execute_result"
    }
   ],
   "source": [
    "# use robotic sampler 'PAL' action server as placeholder for sample database server\n",
    "acq_resp = requests.post(f\"http://{cfg['PAL']['host']}:{cfg['PAL']['port']}/get_measured\")\n",
    "acq_resp.status_code == 200"
   ]
  },
  {
   "cell_type": "code",
   "execution_count": 43,
   "id": "256f6994-ddc8-4d7a-ba86-3299e05fc567",
   "metadata": {
    "execution": {
     "iopub.execute_input": "2022-05-12T01:34:18.860809Z",
     "iopub.status.busy": "2022-05-12T01:34:18.860627Z",
     "iopub.status.idle": "2022-05-12T01:34:18.864416Z",
     "shell.execute_reply": "2022-05-12T01:34:18.863964Z",
     "shell.execute_reply.started": "2022-05-12T01:34:18.860795Z"
    },
    "tags": []
   },
   "outputs": [
    {
     "data": {
      "text/plain": [
       "[{'Ni': 0.0,\n",
       "  'Fe': 0.1,\n",
       "  'La': 0.8,\n",
       "  'Ce': 0.0,\n",
       "  'Co': 0.0,\n",
       "  'Ta': 0.1,\n",
       "  'solution_ph': 13,\n",
       "  'eta3': 0.411175,\n",
       "  'eta10': 0.502737},\n",
       " {'Ni': 0.0,\n",
       "  'Fe': 0.3,\n",
       "  'La': 0.3,\n",
       "  'Ce': 0.0,\n",
       "  'Co': 0.4,\n",
       "  'Ta': 0.0,\n",
       "  'solution_ph': 13,\n",
       "  'eta3': 0.361331,\n",
       "  'eta10': 0.397913},\n",
       " {'Ni': 0.0,\n",
       "  'Fe': 0.0,\n",
       "  'La': 0.2,\n",
       "  'Ce': 0.0,\n",
       "  'Co': 0.2,\n",
       "  'Ta': 0.6,\n",
       "  'solution_ph': 13,\n",
       "  'eta3': 0.41637,\n",
       "  'eta10': 0.462762},\n",
       " {'Ni': 0.0,\n",
       "  'Fe': 0.0,\n",
       "  'La': 0.4,\n",
       "  'Ce': 0.3,\n",
       "  'Co': 0.2,\n",
       "  'Ta': 0.1,\n",
       "  'solution_ph': 13,\n",
       "  'eta3': 0.395245,\n",
       "  'eta10': 0.456316},\n",
       " {'Ni': 0.2,\n",
       "  'Fe': 0.0,\n",
       "  'La': 0.3,\n",
       "  'Ce': 0.5,\n",
       "  'Co': 0.0,\n",
       "  'Ta': 0.0,\n",
       "  'solution_ph': 13,\n",
       "  'eta3': 0.417371,\n",
       "  'eta10': 0.494323}]"
      ]
     },
     "execution_count": 43,
     "metadata": {},
     "output_type": "execute_result"
    }
   ],
   "source": [
    "acq_resp.json()"
   ]
  },
  {
   "cell_type": "code",
   "execution_count": null,
   "id": "7acbb664-c50e-4c97-bb08-927dd3034be9",
   "metadata": {},
   "outputs": [],
   "source": []
  }
 ],
 "metadata": {
  "kernelspec": {
   "display_name": "Python 3 (ipykernel)",
   "language": "python",
   "name": "python3"
  },
  "language_info": {
   "codemirror_mode": {
    "name": "ipython",
    "version": 3
   },
   "file_extension": ".py",
   "mimetype": "text/x-python",
   "name": "python",
   "nbconvert_exporter": "python",
   "pygments_lexer": "ipython3",
   "version": "3.9.12"
  },
  "widgets": {
   "application/vnd.jupyter.widget-state+json": {
    "state": {},
    "version_major": 2,
    "version_minor": 0
   }
  }
 },
 "nbformat": 4,
 "nbformat_minor": 5
}
