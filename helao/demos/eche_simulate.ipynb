{
 "cells": [
  {
   "cell_type": "code",
   "execution_count": 1,
   "id": "12d9ddef-f329-406d-8222-b78ee143ca10",
   "metadata": {
    "execution": {
     "iopub.execute_input": "2022-07-12T17:41:12.787467Z",
     "iopub.status.busy": "2022-07-12T17:41:12.787162Z",
     "iopub.status.idle": "2022-07-12T17:41:12.925251Z",
     "shell.execute_reply": "2022-07-12T17:41:12.924889Z",
     "shell.execute_reply.started": "2022-07-12T17:41:12.787426Z"
    },
    "tags": []
   },
   "outputs": [],
   "source": [
    "import sys\n",
    "import random \n",
    "import requests\n",
    "from time import sleep\n",
    "\n",
    "import numpy as np\n",
    "\n",
    "# assumes working directory is notebook location\n",
    "corepath = \"../../../helao-core\"\n",
    "sys.path.append(corepath)\n",
    "from helaocore.models.experiment import ExperimentTemplate\n",
    "\n",
    "sys.path.append(\"../..\")\n",
    "from helao.helpers.premodels import Sequence\n",
    "from helao.configs.simulate import config as global_cfg\n",
    "\n",
    "cfg = global_cfg['servers']"
   ]
  },
  {
   "cell_type": "code",
   "execution_count": 3,
   "id": "fbaf3fa8-b550-41fa-ab67-a3fdf26b1d6a",
   "metadata": {
    "execution": {
     "iopub.execute_input": "2022-07-12T17:41:29.037056Z",
     "iopub.status.busy": "2022-07-12T17:41:29.036743Z",
     "iopub.status.idle": "2022-07-12T17:41:29.042125Z",
     "shell.execute_reply": "2022-07-12T17:41:29.041447Z",
     "shell.execute_reply.started": "2022-07-12T17:41:29.037043Z"
    },
    "tags": []
   },
   "outputs": [
    {
     "data": {
      "text/plain": [
       "{'dummy': True,\n",
       " 'simulation': True,\n",
       " 'experiment_libraries': ['simulate_exp'],\n",
       " 'sequence_libraries': [],\n",
       " 'run_type': 'simulation',\n",
       " 'root': '/mnt/BIGSTOR/INST',\n",
       " 'servers': {'ORCH': {'host': '127.0.0.1',\n",
       "   'port': 8001,\n",
       "   'group': 'orchestrator',\n",
       "   'fast': 'async_orch2',\n",
       "   'params': {'enable_op': True, 'bokeh_port': 5002}},\n",
       "  'PAL': {'host': '127.0.0.1',\n",
       "   'port': 8003,\n",
       "   'group': 'action',\n",
       "   'fast': 'archive_simulator',\n",
       "   'params': {'data_path': '/mnt/k/users/guevarra/20191108_multipH_OER_full.csv'}},\n",
       "  'MOTOR': {'host': '127.0.0.1',\n",
       "   'port': 8004,\n",
       "   'group': 'action',\n",
       "   'fast': 'motion_simulator',\n",
       "   'params': {'platemap_path': '/mnt/j/hte_jcap_app_proto/map/0069-04-0100-mp.txt',\n",
       "    'count_to_mm': {'A': 0.00015632645340611895, 'B': 0.00015648717587593696},\n",
       "    'def_speed_count_sec': 10000,\n",
       "    'max_speed_count_sec': 25000}},\n",
       "  'PSTAT': {'host': '127.0.0.1',\n",
       "   'port': 8005,\n",
       "   'group': 'action',\n",
       "   'fast': 'pstat_simulator',\n",
       "   'params': {'data_path': '/mnt/k/users/guevarra/20191108_multipH_OER_full.csv'}},\n",
       "  'ANA': {'host': '127.0.0.1',\n",
       "   'port': 8009,\n",
       "   'group': 'action',\n",
       "   'fast': 'analysis_simulator',\n",
       "   'params': {'data_path': '/mnt/k/users/guevarra/20191108_multipH_OER_full.csv'}}}}"
      ]
     },
     "execution_count": 3,
     "metadata": {},
     "output_type": "execute_result"
    }
   ],
   "source": [
    "global_cfg"
   ]
  },
  {
   "cell_type": "markdown",
   "id": "175d834e-f7a5-4151-8d71-db82fb5618c6",
   "metadata": {
    "tags": []
   },
   "source": [
    "# request explorable space"
   ]
  },
  {
   "cell_type": "code",
   "execution_count": null,
   "id": "13dc15d8-2c2a-45b1-ae3c-a0ad0796dd73",
   "metadata": {
    "tags": []
   },
   "outputs": [],
   "source": [
    "# use robotic sampler 'PAL' action server as placeholder for sample database server\n",
    "resp = requests.post(f\"http://{cfg['PAL']['host']}:{cfg['PAL']['port']}/list_all_spaces\")\n",
    "resp.status_code == 200"
   ]
  },
  {
   "cell_type": "code",
   "execution_count": null,
   "id": "4a86cdc9-7bfe-4cd1-a845-d07ec488a2b4",
   "metadata": {
    "tags": []
   },
   "outputs": [],
   "source": [
    "# available composition,pH spaces\n",
    "sorted([(d['elements'], d['solution_ph']) for d in resp.json()])"
   ]
  },
  {
   "cell_type": "markdown",
   "id": "d76fb3cb-6133-41de-bf05-f5f0989cc709",
   "metadata": {},
   "source": [
    "### terminology\n",
    "- a 'sequence' is a queue of experiments performed in order\n",
    "- an 'experiment' is a queue of actions performed in order\n",
    "- _side note:_ one or more ESAMP processes may be created from an experiment, the experiment `SIM_measure_CP` produces 1 process\n",
    "- an 'action' is the atomic request dispatched by the Orchestrator to individual action servers\n",
    "- an 'action server' exposes hardware driver and data management functions via FastAPI\n",
    "- an 'Orchestrator' manages the queing and dispatch sequences, experiments, and action requests"
   ]
  },
  {
   "cell_type": "code",
   "execution_count": 2,
   "id": "8a559f7f-d17f-4dfe-a014-86684480c002",
   "metadata": {
    "tags": []
   },
   "outputs": [
    {
     "data": {
      "text/plain": [
       "['SIM_measure_CP']"
      ]
     },
     "execution_count": 2,
     "metadata": {},
     "output_type": "execute_result"
    }
   ],
   "source": [
    "# valid experiment names\n",
    "import helao.experiments.simulate_exp\n",
    "helao.experiments.simulate_exp.__all__"
   ]
  },
  {
   "cell_type": "code",
   "execution_count": 3,
   "id": "0d546d89-4168-46c5-9eeb-7a1c02e3f4a6",
   "metadata": {
    "tags": []
   },
   "outputs": [
    {
     "data": {
      "text/plain": [
       "<function helao.experiments.simulate_exp.SIM_measure_CP(experiment: helao.helpers.premodels.Experiment, experiment_version: int = 1, solution_ph: Optional[int] = 13, elements: Optional[List[str]] = [], element_fracs: Optional[List[float]] = [])>"
      ]
     },
     "execution_count": 3,
     "metadata": {},
     "output_type": "execute_result"
    }
   ],
   "source": [
    "from helao.experiments.simulate_exp import SIM_measure_CP\n",
    "SIM_measure_CP"
   ]
  },
  {
   "cell_type": "markdown",
   "id": "e91396ec-ff6a-44c6-8ed5-74fbbbdfaeeb",
   "metadata": {},
   "source": [
    "- `SIM_measure_CP` is the only experiment available in this simulator\n",
    "- `SIM_measure_CP` has 3 real arguments: `solution_ph`, `elements`, and `element_fracs`\n",
    "- args `experiment` and `experiment_version` are managed by orchestrator"
   ]
  },
  {
   "cell_type": "markdown",
   "id": "d5f3c724-b332-4458-9176-87643061b084",
   "metadata": {
    "execution": {
     "iopub.execute_input": "2022-05-12T01:30:22.343473Z",
     "iopub.status.busy": "2022-05-12T01:30:22.343261Z",
     "iopub.status.idle": "2022-05-12T01:30:22.345870Z",
     "shell.execute_reply": "2022-05-12T01:30:22.345500Z",
     "shell.execute_reply.started": "2022-05-12T01:30:22.343454Z"
    },
    "tags": []
   },
   "source": [
    "### `SIM_measure_CP` experiment performs 9 actions:\n",
    "1. query available plates for elements (and pH) matching `solution_ph` and `elements`\n",
    "2. load plate_id identified in (1)\n",
    "3. query available samples for element fractions matching `element_fracs`\n",
    "4. locate x,y coordinates for sample identified in (3)\n",
    "5. move stage motors to x,y, coordinates identified in (4)\n",
    "6. run CP measurement at 3 mA/cm2 for 15 seconds\n",
    "7. extract Eta (V vs O2/H2O) from measurement in (6)\n",
    "8. run CP measurement at 10 mA/cm2 for 15 seconds\n",
    "9. extract Eta (V vs O2/H2O) from measurement in (9)"
   ]
  },
  {
   "cell_type": "markdown",
   "id": "514161ba-6d79-481d-b72b-8b822bf771c8",
   "metadata": {},
   "source": [
    "# example Ni-Fe-La-Ce-Co-Ta @ pH=13"
   ]
  },
  {
   "cell_type": "code",
   "execution_count": null,
   "id": "119282d7-a908-49fd-b91c-4dfe0c5761a9",
   "metadata": {
    "tags": []
   },
   "outputs": [],
   "source": [
    "import json\n",
    "json.dumps(['Ni', 'Fe', 'La', 'Ce', 'Co', 'Ta'])"
   ]
  },
  {
   "cell_type": "code",
   "execution_count": null,
   "id": "fe0b3e71-ef1c-4d64-9ee8-60d1ab694ed1",
   "metadata": {
    "tags": []
   },
   "outputs": [],
   "source": [
    "# get addressable composition space (X's) from previous request\n",
    "elements = ['Ni', 'Fe', 'La', 'Ce', 'Co', 'Ta']\n",
    "solution_ph = 13\n",
    "\n",
    "comp_space = [x for x in resp.json() if x['elements']==elements and x['solution_ph']==solution_ph][0]['element_fracs']\n",
    "len(comp_space)"
   ]
  },
  {
   "cell_type": "code",
   "execution_count": null,
   "id": "1a3adc2d-aa51-424a-9739-e9f5519a2bd1",
   "metadata": {
    "tags": []
   },
   "outputs": [],
   "source": [
    "comp_space[:5]"
   ]
  },
  {
   "cell_type": "code",
   "execution_count": null,
   "id": "11719005-42cc-4ad9-b27c-a23015a797a2",
   "metadata": {
    "tags": []
   },
   "outputs": [],
   "source": [
    "# initial random seed of 5 compositions\n",
    "random.seed(0)\n",
    "comp_inds = random.sample(range(len(comp_space)), 5)\n",
    "\n",
    "# create sequence object for holding experiments\n",
    "sequence = Sequence(sequence_name='seed_sequence')\n",
    "\n",
    "# populate sequence's experiment list\n",
    "for i in comp_inds:\n",
    "    sequence.experiment_plan_list.append(\n",
    "        ExperimentTemplate(\n",
    "            experiment_name=\"SIM_measure_CP\",\n",
    "            experiment_params={\n",
    "                \"solution_ph\": 13,\n",
    "                \"elements\": [\"Ni\", \"Fe\", \"La\", \"Ce\", \"Co\", \"Ta\"],\n",
    "                \"element_fracs\": comp_space[i],\n",
    "            },\n",
    "        )\n",
    "    )"
   ]
  },
  {
   "cell_type": "code",
   "execution_count": null,
   "id": "821176cf-2545-4d96-9b54-630d3da987de",
   "metadata": {
    "tags": []
   },
   "outputs": [],
   "source": [
    "# preview sequence object, identifying info such as uuid and timestamp are only created when a sequence is dispactched (executed by Orchestrator)\n",
    "sequence.as_dict()"
   ]
  },
  {
   "cell_type": "code",
   "execution_count": null,
   "id": "d2cc7a74-c901-48b9-b8fa-b5d94b10514b",
   "metadata": {
    "tags": []
   },
   "outputs": [],
   "source": [
    "# send sequence to Orchestrator\n",
    "seq_req = requests.post(f\"http://{cfg['ORCH']['host']}:{cfg['ORCH']['port']}/append_sequence\", json={\"sequence\": sequence.as_dict()})\n",
    "seq_req.status_code == 200  # successful post request"
   ]
  },
  {
   "cell_type": "code",
   "execution_count": null,
   "id": "8e827999-ef6e-471a-9b97-bb0df320009b",
   "metadata": {
    "tags": []
   },
   "outputs": [],
   "source": [
    "# get list of loaded sequences on Orchestrator\n",
    "orch_list = requests.post(f\"http://{cfg['ORCH']['host']}:{cfg['ORCH']['port']}/list_sequences\")\n",
    "orch_list.status_code == 200  # successful post request"
   ]
  },
  {
   "cell_type": "code",
   "execution_count": null,
   "id": "fcfffb5d-f738-49aa-8127-47ff1e4cafad",
   "metadata": {
    "tags": []
   },
   "outputs": [],
   "source": [
    "orch_list.json() # present sequence queue"
   ]
  },
  {
   "cell_type": "code",
   "execution_count": null,
   "id": "26872a85-2c24-4325-81a2-1acce0f5506c",
   "metadata": {
    "tags": []
   },
   "outputs": [],
   "source": [
    "# start Orch (begin or resume dispatching sequence/experiment/action queues)\n",
    "orch_start = requests.post(f\"http://{cfg['ORCH']['host']}:{cfg['ORCH']['port']}/start\")\n",
    "orch_start.status_code == 200"
   ]
  },
  {
   "cell_type": "markdown",
   "id": "15ddf180-67b6-45de-b709-e8e28d1cf975",
   "metadata": {},
   "source": [
    "__Notes on Orch status:__\n",
    "\n",
    "The orchestrator server holds minimal state variables, so we can only ask:\n",
    "1. whether it's currently stopped or running\n",
    "2. the state of dispatched actions of the active experiment\n",
    "\n",
    "When Orch completes all queued actions, experiments, and sequences, the states in (2) will be cleared.\n",
    "\n",
    "_Ideally an experiment would use a final action that pushes a message to GCLD._ In lieu of this, we can set up a primitive polling loop to track running state and count the number of dispatched experiments."
   ]
  },
  {
   "cell_type": "code",
   "execution_count": null,
   "id": "4af64625-6ace-40d6-bda8-f2d303c488f8",
   "metadata": {
    "tags": []
   },
   "outputs": [],
   "source": [
    "orch_status = requests.post(f\"http://{cfg['ORCH']['host']}:{cfg['ORCH']['port']}/get_status\")\n",
    "\n",
    "dispatched_exps = set()\n",
    "last_exp_count = 0\n",
    "while orch_status.json()[\"loop_state\"] == \"started\":\n",
    "    sleep(2)\n",
    "    orch_status = requests.post(f\"http://{cfg['ORCH']['host']}:{cfg['ORCH']['port']}/get_status\")\n",
    "    active_dict = orch_status.json()['active_dict']\n",
    "    for act_uuid, act_dict in active_dict.items():\n",
    "        dispatched_exps.add(act_dict['act']['experiment_uuid'])\n",
    "    if len(dispatched_exps) != last_exp_count:\n",
    "        last_exp_count = len(dispatched_exps)\n",
    "        print(last_exp_count, \"experiments have been dispatched.\")\n",
    "print(\"Orch has stopped.\")"
   ]
  },
  {
   "cell_type": "code",
   "execution_count": null,
   "id": "8db8aca1-e037-4102-b926-72547b185b43",
   "metadata": {
    "tags": []
   },
   "outputs": [],
   "source": [
    "# use robotic sampler 'PAL' action server as placeholder for sample database server\n",
    "acq_resp = requests.post(f\"http://{cfg['PAL']['host']}:{cfg['PAL']['port']}/get_measured\", json={\"start_idx\": 0})\n",
    "acq_resp.status_code == 200"
   ]
  },
  {
   "cell_type": "code",
   "execution_count": null,
   "id": "256f6994-ddc8-4d7a-ba86-3299e05fc567",
   "metadata": {
    "tags": []
   },
   "outputs": [],
   "source": [
    "acq_resp.json()"
   ]
  },
  {
   "cell_type": "code",
   "execution_count": null,
   "id": "9ff7ce47-6ff2-42a9-ba83-3adac31fa1e2",
   "metadata": {
    "tags": []
   },
   "outputs": [],
   "source": [
    "# acquire new batch of 5 random comps\n",
    "random.seed(0)\n",
    "batch2_inds = random.sample(range(len(comp_space)), 10)[5:]\n",
    "batch2_inds"
   ]
  },
  {
   "cell_type": "code",
   "execution_count": null,
   "id": "88156ce0-da73-4cca-b045-779b61229a30",
   "metadata": {
    "tags": []
   },
   "outputs": [],
   "source": [
    "# original seed indices\n",
    "comp_inds"
   ]
  },
  {
   "cell_type": "code",
   "execution_count": null,
   "id": "c7a49224-8b61-4953-8aaa-2c037b040cca",
   "metadata": {
    "tags": []
   },
   "outputs": [],
   "source": [
    "# create sequence object for holding experiments\n",
    "sequence = Sequence(sequence_name='seed_sequence')\n",
    "\n",
    "# populate sequence's experiment list\n",
    "for i in batch2_inds:\n",
    "    sequence.experiment_plan_list.append(\n",
    "        ExperimentTemplate(\n",
    "            experiment_name=\"SIM_measure_CP\",\n",
    "            experiment_params={\n",
    "                \"solution_ph\": 13,\n",
    "                \"elements\": [\"Ni\", \"Fe\", \"La\", \"Ce\", \"Co\", \"Ta\"],\n",
    "                \"element_fracs\": comp_space[i],\n",
    "            },\n",
    "        )\n",
    "    )"
   ]
  },
  {
   "cell_type": "code",
   "execution_count": null,
   "id": "d938f0dc-4c72-422a-83e0-939855403e22",
   "metadata": {
    "tags": []
   },
   "outputs": [],
   "source": [
    "# send sequence to Orchestrator\n",
    "seq_req = requests.post(f\"http://{cfg['ORCH']['host']}:{cfg['ORCH']['port']}/append_sequence\", json={\"sequence\": sequence.as_dict()})\n",
    "seq_req.status_code == 200  # successful post request"
   ]
  },
  {
   "cell_type": "code",
   "execution_count": null,
   "id": "fab8a60f-04e8-48d9-8a4b-8e4e686fe9ef",
   "metadata": {
    "tags": []
   },
   "outputs": [],
   "source": [
    "# start Orch (begin or resume dispatching sequence/experiment/action queues)\n",
    "orch_start = requests.post(f\"http://{cfg['ORCH']['host']}:{cfg['ORCH']['port']}/start\")\n",
    "orch_start.status_code == 200"
   ]
  },
  {
   "cell_type": "code",
   "execution_count": null,
   "id": "da957b9c-9f78-40c6-a42d-ad7146d0ba74",
   "metadata": {
    "tags": []
   },
   "outputs": [],
   "source": [
    "orch_status = requests.post(f\"http://{cfg['ORCH']['host']}:{cfg['ORCH']['port']}/get_status\")\n",
    "\n",
    "dispatched_exps = set()\n",
    "last_exp_count = 0\n",
    "while orch_status.json()[\"loop_state\"] == \"started\":\n",
    "    sleep(2)\n",
    "    orch_status = requests.post(f\"http://{cfg['ORCH']['host']}:{cfg['ORCH']['port']}/get_status\")\n",
    "    active_dict = orch_status.json()['active_dict']\n",
    "    for act_uuid, act_dict in active_dict.items():\n",
    "        dispatched_exps.add(act_dict['act']['experiment_uuid'])\n",
    "    if len(dispatched_exps) != last_exp_count:\n",
    "        last_exp_count = len(dispatched_exps)\n",
    "        print(last_exp_count, \"experiments have been dispatched.\")\n",
    "print(\"Orch has stopped.\")"
   ]
  },
  {
   "cell_type": "code",
   "execution_count": null,
   "id": "1e8d3e9f-8859-4913-9371-5b35685955f0",
   "metadata": {
    "tags": []
   },
   "outputs": [],
   "source": [
    "# change 'start_idx' query parameter to slice list of measured space\n",
    "start_idx = 5\n",
    "acq2_resp = requests.post(f\"http://{cfg['PAL']['host']}:{cfg['PAL']['port']}/get_measured?start_idx={start_idx}\")\n",
    "acq2_resp.status_code == 200"
   ]
  },
  {
   "cell_type": "code",
   "execution_count": null,
   "id": "384310c7-85ea-4730-8bdb-bd3782c606db",
   "metadata": {
    "tags": []
   },
   "outputs": [],
   "source": [
    "acq2_resp.json()"
   ]
  },
  {
   "cell_type": "code",
   "execution_count": null,
   "id": "d5ef3b95-57cd-463f-8439-c7054ee388c9",
   "metadata": {
    "tags": []
   },
   "outputs": [],
   "source": [
    "# further sequences/experiments on the same space/plate will aggregate results on the PAL server\n",
    "# loading a new space (i.e. issuing a new experiment with different elements+pH from previous) will reset the aggregated results\n",
    "# results should be queried prior to changing plates\n",
    "\n",
    "# the following request manually resets the list of acquired samples on the PAL server\n",
    "reset_resp = requests.post(f\"http://{cfg['PAL']['host']}:{cfg['PAL']['port']}/clear_measured\")\n",
    "reset_resp.status_code == 200"
   ]
  },
  {
   "cell_type": "code",
   "execution_count": null,
   "id": "ab48041e-6ade-4a46-ba26-8bafe30585e8",
   "metadata": {},
   "outputs": [],
   "source": []
  }
 ],
 "metadata": {
  "kernelspec": {
   "display_name": "Python 3 (ipykernel)",
   "language": "python",
   "name": "python3"
  },
  "language_info": {
   "codemirror_mode": {
    "name": "ipython",
    "version": 3
   },
   "file_extension": ".py",
   "mimetype": "text/x-python",
   "name": "python",
   "nbconvert_exporter": "python",
   "pygments_lexer": "ipython3",
   "version": "3.9.13"
  },
  "vscode": {
   "interpreter": {
    "hash": "cb58d5e250e43b455503701ac4617daace2b46fdefd86ea52be653ea293a7c81"
   }
  },
  "widgets": {
   "application/vnd.jupyter.widget-state+json": {
    "state": {},
    "version_major": 2,
    "version_minor": 0
   }
  }
 },
 "nbformat": 4,
 "nbformat_minor": 5
}
