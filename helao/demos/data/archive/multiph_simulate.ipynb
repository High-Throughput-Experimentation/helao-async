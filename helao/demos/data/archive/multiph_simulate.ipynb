{
 "cells": [
  {
   "cell_type": "code",
   "execution_count": 1,
   "id": "12d9ddef-f329-406d-8222-b78ee143ca10",
   "metadata": {
    "execution": {
     "iopub.execute_input": "2022-07-12T19:22:45.403202Z",
     "iopub.status.busy": "2022-07-12T19:22:45.402757Z",
     "iopub.status.idle": "2022-07-12T19:22:45.556389Z",
     "shell.execute_reply": "2022-07-12T19:22:45.556039Z",
     "shell.execute_reply.started": "2022-07-12T19:22:45.403110Z"
    },
    "tags": []
   },
   "outputs": [],
   "source": [
    "import sys\n",
    "import random \n",
    "import requests\n",
    "from time import sleep\n",
    "\n",
    "import numpy as np\n",
    "\n",
    "# assumes working directory is notebook location\n",
    "corepath = \"../../../helao-core\"\n",
    "sys.path.append(corepath)\n",
    "from helao.core.models.experiment import ExperimentTemplate\n",
    "\n",
    "sys.path.append(\"../..\")\n",
    "from helao.helpers.premodels import Sequence\n",
    "from helao.configs.simulate import config as global_cfg\n",
    "\n",
    "cfg = global_cfg['servers']"
   ]
  },
  {
   "cell_type": "code",
   "execution_count": 2,
   "id": "a4f856ea-8f4b-4ded-8d75-199dc00d5cf2",
   "metadata": {
    "execution": {
     "iopub.execute_input": "2022-07-12T19:22:45.557208Z",
     "iopub.status.busy": "2022-07-12T19:22:45.557058Z",
     "iopub.status.idle": "2022-07-12T19:22:45.559394Z",
     "shell.execute_reply": "2022-07-12T19:22:45.559118Z",
     "shell.execute_reply.started": "2022-07-12T19:22:45.557197Z"
    }
   },
   "outputs": [],
   "source": [
    "palhost = cfg[\"PAL\"][\"host\"]\n",
    "palport = cfg[\"PAL\"][\"port\"]\n",
    "orchhost = cfg[\"ORCH\"][\"host\"]\n",
    "orchport = cfg[\"ORCH\"][\"port\"]"
   ]
  },
  {
   "cell_type": "markdown",
   "id": "175d834e-f7a5-4151-8d71-db82fb5618c6",
   "metadata": {
    "tags": []
   },
   "source": [
    "# request explorable space"
   ]
  },
  {
   "cell_type": "code",
   "execution_count": 3,
   "id": "13dc15d8-2c2a-45b1-ae3c-a0ad0796dd73",
   "metadata": {
    "execution": {
     "iopub.execute_input": "2022-07-12T19:22:45.559871Z",
     "iopub.status.busy": "2022-07-12T19:22:45.559763Z",
     "iopub.status.idle": "2022-07-12T19:22:45.802317Z",
     "shell.execute_reply": "2022-07-12T19:22:45.802005Z",
     "shell.execute_reply.started": "2022-07-12T19:22:45.559861Z"
    },
    "tags": []
   },
   "outputs": [
    {
     "data": {
      "text/plain": [
       "True"
      ]
     },
     "execution_count": 3,
     "metadata": {},
     "output_type": "execute_result"
    }
   ],
   "source": [
    "# use robotic sampler 'PAL' action server as placeholder for sample database server\n",
    "resp = requests.post(f\"http://{palhost}:{palport}/list_all_spaces\")\n",
    "resp.status_code == 200"
   ]
  },
  {
   "cell_type": "code",
   "execution_count": 4,
   "id": "4a86cdc9-7bfe-4cd1-a845-d07ec488a2b4",
   "metadata": {
    "execution": {
     "iopub.execute_input": "2022-07-12T19:22:45.802858Z",
     "iopub.status.busy": "2022-07-12T19:22:45.802751Z",
     "iopub.status.idle": "2022-07-12T19:22:45.829922Z",
     "shell.execute_reply": "2022-07-12T19:22:45.829638Z",
     "shell.execute_reply.started": "2022-07-12T19:22:45.802847Z"
    },
    "tags": []
   },
   "outputs": [
    {
     "data": {
      "text/plain": [
       "[(['Co', 'Mn', 'Sn', 'Mg', 'Zn', 'Ca'], 3),\n",
       " (['Co', 'Mn', 'Sn', 'Mg', 'Zn', 'Ca'], 7),\n",
       " (['Co', 'Mn', 'Sn', 'Mg', 'Zn', 'Ca'], 9),\n",
       " (['Co', 'Mn', 'Sn', 'Mg', 'Zn', 'Ca'], 13),\n",
       " (['Fe', 'Co', 'Ta', 'Mn', 'Cu', 'Sn'], 3),\n",
       " (['Fe', 'Co', 'Ta', 'Mn', 'Cu', 'Sn'], 7),\n",
       " (['Fe', 'Co', 'Ta', 'Mn', 'Cu', 'Sn'], 9),\n",
       " (['Fe', 'Co', 'Ta', 'Mn', 'Cu', 'Sn'], 13),\n",
       " (['Ni', 'Fe', 'Co', 'Ta', 'Mn', 'Cu'], 3),\n",
       " (['Ni', 'Fe', 'Co', 'Ta', 'Mn', 'Cu'], 7),\n",
       " (['Ni', 'Fe', 'Co', 'Ta', 'Mn', 'Cu'], 9),\n",
       " (['Ni', 'Fe', 'Co', 'Ta', 'Mn', 'Cu'], 13),\n",
       " (['Ni', 'Fe', 'La', 'Ce', 'Co', 'Ta'], 3),\n",
       " (['Ni', 'Fe', 'La', 'Ce', 'Co', 'Ta'], 7),\n",
       " (['Ni', 'Fe', 'La', 'Ce', 'Co', 'Ta'], 9),\n",
       " (['Ni', 'Fe', 'La', 'Ce', 'Co', 'Ta'], 13)]"
      ]
     },
     "execution_count": 4,
     "metadata": {},
     "output_type": "execute_result"
    }
   ],
   "source": [
    "# available composition,pH spaces\n",
    "sorted([(d['elements'], d['solution_ph']) for d in resp.json()])"
   ]
  },
  {
   "cell_type": "markdown",
   "id": "d76fb3cb-6133-41de-bf05-f5f0989cc709",
   "metadata": {},
   "source": [
    "### terminology\n",
    "- a 'sequence' is a queue of experiments performed in order\n",
    "- an 'experiment' is a queue of actions performed in order\n",
    "- _side note:_ one or more ESAMP processes may be created from an experiment, the experiment `SIM_measure_CP` produces 1 process\n",
    "- an 'action' is the atomic request dispatched by the Orchestrator to individual action servers\n",
    "- an 'action server' exposes hardware driver and data management functions via FastAPI\n",
    "- an 'Orchestrator' manages the queing and dispatch sequences, experiments, and action requests"
   ]
  },
  {
   "cell_type": "code",
   "execution_count": 5,
   "id": "8a559f7f-d17f-4dfe-a014-86684480c002",
   "metadata": {
    "execution": {
     "iopub.execute_input": "2022-07-12T19:22:45.831121Z",
     "iopub.status.busy": "2022-07-12T19:22:45.830982Z",
     "iopub.status.idle": "2022-07-12T19:22:45.834115Z",
     "shell.execute_reply": "2022-07-12T19:22:45.833807Z",
     "shell.execute_reply.started": "2022-07-12T19:22:45.831111Z"
    },
    "tags": []
   },
   "outputs": [
    {
     "data": {
      "text/plain": [
       "['SIM_measure_CP']"
      ]
     },
     "execution_count": 5,
     "metadata": {},
     "output_type": "execute_result"
    }
   ],
   "source": [
    "# valid experiment names\n",
    "import helao.experiments.simulate_exp\n",
    "helao.experiments.simulate_exp.__all__"
   ]
  },
  {
   "cell_type": "code",
   "execution_count": 6,
   "id": "0d546d89-4168-46c5-9eeb-7a1c02e3f4a6",
   "metadata": {
    "execution": {
     "iopub.execute_input": "2022-07-12T19:22:45.834673Z",
     "iopub.status.busy": "2022-07-12T19:22:45.834563Z",
     "iopub.status.idle": "2022-07-12T19:22:45.837190Z",
     "shell.execute_reply": "2022-07-12T19:22:45.836898Z",
     "shell.execute_reply.started": "2022-07-12T19:22:45.834661Z"
    },
    "tags": []
   },
   "outputs": [
    {
     "data": {
      "text/plain": [
       "<function helao.experiments.simulate_exp.SIM_measure_CP(experiment: helao.helpers.premodels.Experiment, experiment_version: int = 1, solution_ph: Optional[int] = 13, elements: Optional[List[str]] = [], element_fracs: Optional[List[float]] = [])>"
      ]
     },
     "execution_count": 6,
     "metadata": {},
     "output_type": "execute_result"
    }
   ],
   "source": [
    "from helao.experiments.simulate_exp import SIM_measure_CP\n",
    "SIM_measure_CP"
   ]
  },
  {
   "cell_type": "markdown",
   "id": "e91396ec-ff6a-44c6-8ed5-74fbbbdfaeeb",
   "metadata": {},
   "source": [
    "- `SIM_measure_CP` is the only experiment available in this simulator\n",
    "- `SIM_measure_CP` has 3 real arguments: `solution_ph`, `elements`, and `element_fracs`\n",
    "- args `experiment` and `experiment_version` are managed by orchestrator"
   ]
  },
  {
   "cell_type": "markdown",
   "id": "d5f3c724-b332-4458-9176-87643061b084",
   "metadata": {
    "execution": {
     "iopub.execute_input": "2022-05-12T01:30:22.343473Z",
     "iopub.status.busy": "2022-05-12T01:30:22.343261Z",
     "iopub.status.idle": "2022-05-12T01:30:22.345870Z",
     "shell.execute_reply": "2022-05-12T01:30:22.345500Z",
     "shell.execute_reply.started": "2022-05-12T01:30:22.343454Z"
    },
    "tags": []
   },
   "source": [
    "### `SIM_measure_CP` experiment performs 9 actions:\n",
    "1. query available plates for elements (and pH) matching `solution_ph` and `elements`\n",
    "2. load plate_id identified in (1)\n",
    "3. query available samples for element fractions matching `element_fracs`\n",
    "4. locate x,y coordinates for sample identified in (3)\n",
    "5. move stage motors to x,y, coordinates identified in (4)\n",
    "6. run CP measurement at 3 mA/cm2 for 15 seconds\n",
    "7. extract Eta (V vs O2/H2O) from measurement in (6)\n",
    "8. run CP measurement at 10 mA/cm2 for 15 seconds\n",
    "9. extract Eta (V vs O2/H2O) from measurement in (9)"
   ]
  },
  {
   "cell_type": "markdown",
   "id": "514161ba-6d79-481d-b72b-8b822bf771c8",
   "metadata": {},
   "source": [
    "# example Ni-Fe-La-Ce-Co-Ta @ pH=13"
   ]
  },
  {
   "cell_type": "code",
   "execution_count": 7,
   "id": "fe0b3e71-ef1c-4d64-9ee8-60d1ab694ed1",
   "metadata": {
    "execution": {
     "iopub.execute_input": "2022-07-12T19:22:45.837708Z",
     "iopub.status.busy": "2022-07-12T19:22:45.837599Z",
     "iopub.status.idle": "2022-07-12T19:22:45.896510Z",
     "shell.execute_reply": "2022-07-12T19:22:45.896203Z",
     "shell.execute_reply.started": "2022-07-12T19:22:45.837698Z"
    },
    "tags": []
   },
   "outputs": [
    {
     "data": {
      "text/plain": [
       "2051"
      ]
     },
     "execution_count": 7,
     "metadata": {},
     "output_type": "execute_result"
    }
   ],
   "source": [
    "# get addressable composition space (X's) from previous request\n",
    "elements = ['Ni', 'Fe', 'La', 'Ce', 'Co', 'Ta']\n",
    "solution_ph = 13\n",
    "\n",
    "comp_space = [x for x in resp.json() if x['elements']==elements and x['solution_ph']==solution_ph][0]['element_fracs']\n",
    "len(comp_space)"
   ]
  },
  {
   "cell_type": "code",
   "execution_count": 8,
   "id": "1a3adc2d-aa51-424a-9739-e9f5519a2bd1",
   "metadata": {
    "execution": {
     "iopub.execute_input": "2022-07-12T19:22:45.897044Z",
     "iopub.status.busy": "2022-07-12T19:22:45.896941Z",
     "iopub.status.idle": "2022-07-12T19:22:45.899667Z",
     "shell.execute_reply": "2022-07-12T19:22:45.899398Z",
     "shell.execute_reply.started": "2022-07-12T19:22:45.897034Z"
    },
    "tags": []
   },
   "outputs": [
    {
     "data": {
      "text/plain": [
       "[[0.1, 0.2, 0.0, 0.0, 0.6, 0.1],\n",
       " [0.0, 0.3, 0.0, 0.2, 0.5, 0.0],\n",
       " [0.2, 0.0, 0.1, 0.0, 0.4, 0.3],\n",
       " [0.1, 0.0, 0.4, 0.1, 0.4, 0.0],\n",
       " [0.2, 0.1, 0.2, 0.0, 0.0, 0.5]]"
      ]
     },
     "execution_count": 8,
     "metadata": {},
     "output_type": "execute_result"
    }
   ],
   "source": [
    "comp_space[:5]"
   ]
  },
  {
   "cell_type": "code",
   "execution_count": 9,
   "id": "11719005-42cc-4ad9-b27c-a23015a797a2",
   "metadata": {
    "execution": {
     "iopub.execute_input": "2022-07-12T19:22:45.900142Z",
     "iopub.status.busy": "2022-07-12T19:22:45.900040Z",
     "iopub.status.idle": "2022-07-12T19:22:45.902905Z",
     "shell.execute_reply": "2022-07-12T19:22:45.902630Z",
     "shell.execute_reply.started": "2022-07-12T19:22:45.900132Z"
    },
    "tags": []
   },
   "outputs": [],
   "source": [
    "# initial random seed of 5 compositions\n",
    "random.seed(0)\n",
    "comp_inds = random.sample(range(len(comp_space)), 5)\n",
    "\n",
    "# create sequence object for holding experiments\n",
    "sequence = Sequence(sequence_name='seed_sequence')\n",
    "\n",
    "# populate sequence's experiment list\n",
    "for i in comp_inds:\n",
    "    sequence.experiment_plan_list.append(\n",
    "        ExperimentTemplate(\n",
    "            experiment_name=\"SIM_measure_CP\",\n",
    "            experiment_params={\n",
    "                \"solution_ph\": 13,\n",
    "                \"elements\": [\"Ni\", \"Fe\", \"La\", \"Ce\", \"Co\", \"Ta\"],\n",
    "                \"element_fracs\": comp_space[i],\n",
    "            },\n",
    "        )\n",
    "    )"
   ]
  },
  {
   "cell_type": "code",
   "execution_count": 10,
   "id": "821176cf-2545-4d96-9b54-630d3da987de",
   "metadata": {
    "execution": {
     "iopub.execute_input": "2022-07-12T19:22:45.903365Z",
     "iopub.status.busy": "2022-07-12T19:22:45.903267Z",
     "iopub.status.idle": "2022-07-12T19:22:45.907135Z",
     "shell.execute_reply": "2022-07-12T19:22:45.906859Z",
     "shell.execute_reply.started": "2022-07-12T19:22:45.903355Z"
    },
    "tags": []
   },
   "outputs": [
    {
     "data": {
      "text/plain": [
       "{'sequence_name': 'seed_sequence',\n",
       " 'sequence_params': {},\n",
       " 'sequence_label': 'noLabel',\n",
       " 'experiment_plan_list': [{'experiment_name': 'SIM_measure_CP',\n",
       "   'experiment_params': {'solution_ph': 13,\n",
       "    'elements': ['Ni', 'Fe', 'La', 'Ce', 'Co', 'Ta'],\n",
       "    'element_fracs': [0.0, 0.1, 0.8, 0.0, 0.0, 0.1]}},\n",
       "  {'experiment_name': 'SIM_measure_CP',\n",
       "   'experiment_params': {'solution_ph': 13,\n",
       "    'elements': ['Ni', 'Fe', 'La', 'Ce', 'Co', 'Ta'],\n",
       "    'element_fracs': [0.0, 0.3, 0.3, 0.0, 0.4, 0.0]}},\n",
       "  {'experiment_name': 'SIM_measure_CP',\n",
       "   'experiment_params': {'solution_ph': 13,\n",
       "    'elements': ['Ni', 'Fe', 'La', 'Ce', 'Co', 'Ta'],\n",
       "    'element_fracs': [0.0, 0.0, 0.2, 0.0, 0.2, 0.6]}},\n",
       "  {'experiment_name': 'SIM_measure_CP',\n",
       "   'experiment_params': {'solution_ph': 13,\n",
       "    'elements': ['Ni', 'Fe', 'La', 'Ce', 'Co', 'Ta'],\n",
       "    'element_fracs': [0.0, 0.0, 0.4, 0.3, 0.2, 0.1]}},\n",
       "  {'experiment_name': 'SIM_measure_CP',\n",
       "   'experiment_params': {'solution_ph': 13,\n",
       "    'elements': ['Ni', 'Fe', 'La', 'Ce', 'Co', 'Ta'],\n",
       "    'element_fracs': [0.2, 0.0, 0.3, 0.5, 0.0, 0.0]}}],\n",
       " 'hlo_version': '2022.06.22',\n",
       " 'access': 'hte',\n",
       " 'dummy': False,\n",
       " 'simulation': False,\n",
       " 'sequence_uuid': None,\n",
       " 'sequence_timestamp': None,\n",
       " 'sequence_status': [],\n",
       " 'sequence_output_dir': None,\n",
       " 'experiment_list': [],\n",
       " 'experimentmodel_list': []}"
      ]
     },
     "execution_count": 10,
     "metadata": {},
     "output_type": "execute_result"
    }
   ],
   "source": [
    "# preview sequence object, identifying info such as uuid and timestamp are only created when a sequence is dispactched (executed by Orchestrator)\n",
    "sequence.as_dict()"
   ]
  },
  {
   "cell_type": "code",
   "execution_count": 11,
   "id": "d2cc7a74-c901-48b9-b8fa-b5d94b10514b",
   "metadata": {
    "execution": {
     "iopub.execute_input": "2022-07-12T19:22:45.907631Z",
     "iopub.status.busy": "2022-07-12T19:22:45.907504Z",
     "iopub.status.idle": "2022-07-12T19:22:45.913812Z",
     "shell.execute_reply": "2022-07-12T19:22:45.913380Z",
     "shell.execute_reply.started": "2022-07-12T19:22:45.907621Z"
    },
    "tags": []
   },
   "outputs": [
    {
     "data": {
      "text/plain": [
       "True"
      ]
     },
     "execution_count": 11,
     "metadata": {},
     "output_type": "execute_result"
    }
   ],
   "source": [
    "# send sequence to Orchestrator\n",
    "seq_req = requests.post(f\"http://{orchhost}:{orchport}/append_sequence\", json={\"sequence\": sequence.as_dict()})\n",
    "seq_req.status_code == 200  # successful post request"
   ]
  },
  {
   "cell_type": "code",
   "execution_count": 12,
   "id": "8e827999-ef6e-471a-9b97-bb0df320009b",
   "metadata": {
    "execution": {
     "iopub.execute_input": "2022-07-12T19:22:45.914562Z",
     "iopub.status.busy": "2022-07-12T19:22:45.914406Z",
     "iopub.status.idle": "2022-07-12T19:22:45.940090Z",
     "shell.execute_reply": "2022-07-12T19:22:45.939638Z",
     "shell.execute_reply.started": "2022-07-12T19:22:45.914550Z"
    },
    "tags": []
   },
   "outputs": [
    {
     "data": {
      "text/plain": [
       "True"
      ]
     },
     "execution_count": 12,
     "metadata": {},
     "output_type": "execute_result"
    }
   ],
   "source": [
    "# get list of loaded sequences on Orchestrator\n",
    "orch_list = requests.post(f\"http://{orchhost}:{orchport}/list_sequences\")\n",
    "orch_list.status_code == 200  # successful post request"
   ]
  },
  {
   "cell_type": "code",
   "execution_count": 13,
   "id": "fcfffb5d-f738-49aa-8127-47ff1e4cafad",
   "metadata": {
    "execution": {
     "iopub.execute_input": "2022-07-12T19:22:45.940702Z",
     "iopub.status.busy": "2022-07-12T19:22:45.940598Z",
     "iopub.status.idle": "2022-07-12T19:22:45.944731Z",
     "shell.execute_reply": "2022-07-12T19:22:45.944313Z",
     "shell.execute_reply.started": "2022-07-12T19:22:45.940691Z"
    },
    "tags": []
   },
   "outputs": [
    {
     "data": {
      "text/plain": [
       "[{'sequence_name': 'seed_sequence',\n",
       "  'sequence_params': {},\n",
       "  'sequence_label': 'noLabel',\n",
       "  'experiment_plan_list': [{'experiment_name': 'SIM_measure_CP',\n",
       "    'experiment_params': {'solution_ph': 13,\n",
       "     'elements': ['Ni', 'Fe', 'La', 'Ce', 'Co', 'Ta'],\n",
       "     'element_fracs': [0.0, 0.1, 0.8, 0.0, 0.0, 0.1]}},\n",
       "   {'experiment_name': 'SIM_measure_CP',\n",
       "    'experiment_params': {'solution_ph': 13,\n",
       "     'elements': ['Ni', 'Fe', 'La', 'Ce', 'Co', 'Ta'],\n",
       "     'element_fracs': [0.0, 0.3, 0.3, 0.0, 0.4, 0.0]}},\n",
       "   {'experiment_name': 'SIM_measure_CP',\n",
       "    'experiment_params': {'solution_ph': 13,\n",
       "     'elements': ['Ni', 'Fe', 'La', 'Ce', 'Co', 'Ta'],\n",
       "     'element_fracs': [0.0, 0.0, 0.2, 0.0, 0.2, 0.6]}},\n",
       "   {'experiment_name': 'SIM_measure_CP',\n",
       "    'experiment_params': {'solution_ph': 13,\n",
       "     'elements': ['Ni', 'Fe', 'La', 'Ce', 'Co', 'Ta'],\n",
       "     'element_fracs': [0.0, 0.0, 0.4, 0.3, 0.2, 0.1]}},\n",
       "   {'experiment_name': 'SIM_measure_CP',\n",
       "    'experiment_params': {'solution_ph': 13,\n",
       "     'elements': ['Ni', 'Fe', 'La', 'Ce', 'Co', 'Ta'],\n",
       "     'element_fracs': [0.2, 0.0, 0.3, 0.5, 0.0, 0.0]}}],\n",
       "  'hlo_version': '2022.06.22',\n",
       "  'access': 'hte',\n",
       "  'dummy': False,\n",
       "  'simulation': False,\n",
       "  'sequence_uuid': None,\n",
       "  'sequence_timestamp': None,\n",
       "  'sequence_status': [],\n",
       "  'sequence_output_dir': None,\n",
       "  'experiment_list': []}]"
      ]
     },
     "execution_count": 13,
     "metadata": {},
     "output_type": "execute_result"
    }
   ],
   "source": [
    "orch_list.json() # present sequence queue"
   ]
  },
  {
   "cell_type": "code",
   "execution_count": 14,
   "id": "26872a85-2c24-4325-81a2-1acce0f5506c",
   "metadata": {
    "execution": {
     "iopub.execute_input": "2022-07-12T19:22:45.946570Z",
     "iopub.status.busy": "2022-07-12T19:22:45.946430Z",
     "iopub.status.idle": "2022-07-12T19:22:45.952190Z",
     "shell.execute_reply": "2022-07-12T19:22:45.951727Z",
     "shell.execute_reply.started": "2022-07-12T19:22:45.946556Z"
    },
    "tags": []
   },
   "outputs": [
    {
     "data": {
      "text/plain": [
       "True"
      ]
     },
     "execution_count": 14,
     "metadata": {},
     "output_type": "execute_result"
    }
   ],
   "source": [
    "# start Orch (begin or resume dispatching sequence/experiment/action queues)\n",
    "orch_start = requests.post(f\"http://{orchhost}:{orchport}/start\")\n",
    "orch_start.status_code == 200"
   ]
  },
  {
   "cell_type": "markdown",
   "id": "15ddf180-67b6-45de-b709-e8e28d1cf975",
   "metadata": {},
   "source": [
    "__Notes on Orch status:__\n",
    "\n",
    "The orchestrator server holds minimal state variables, so we can only ask:\n",
    "1. whether it's currently stopped or running\n",
    "2. the state of dispatched actions of the active experiment\n",
    "\n",
    "When Orch completes all queued actions, experiments, and sequences, the states in (2) will be cleared.\n",
    "\n",
    "_Ideally an experiment would use a final action that pushes a message to GCLD._ In lieu of this, we can set up a primitive polling loop to track running state and count the number of dispatched experiments."
   ]
  },
  {
   "cell_type": "code",
   "execution_count": 15,
   "id": "4af64625-6ace-40d6-bda8-f2d303c488f8",
   "metadata": {
    "execution": {
     "iopub.execute_input": "2022-07-12T19:22:45.952845Z",
     "iopub.status.busy": "2022-07-12T19:22:45.952740Z",
     "iopub.status.idle": "2022-07-12T19:25:37.638816Z",
     "shell.execute_reply": "2022-07-12T19:25:37.638394Z",
     "shell.execute_reply.started": "2022-07-12T19:22:45.952835Z"
    },
    "tags": []
   },
   "outputs": [
    {
     "name": "stdout",
     "output_type": "stream",
     "text": [
      "1 experiments have been dispatched.\n",
      "2 experiments have been dispatched.\n",
      "3 experiments have been dispatched.\n",
      "4 experiments have been dispatched.\n",
      "5 experiments have been dispatched.\n",
      "Orch has stopped.\n"
     ]
    }
   ],
   "source": [
    "orch_status = requests.post(f\"http://{orchhost}:{orchport}/get_status\")\n",
    "\n",
    "dispatched_exps = set()\n",
    "last_exp_count = 0\n",
    "while orch_status.json()[\"loop_state\"] == \"started\":\n",
    "    sleep(2)\n",
    "    orch_status = requests.post(f\"http://{orchhost}:{orchport}/get_status\")\n",
    "    active_dict = orch_status.json()['active_dict']\n",
    "    for act_uuid, act_dict in active_dict.items():\n",
    "        dispatched_exps.add(act_dict['act']['experiment_uuid'])\n",
    "    if len(dispatched_exps) != last_exp_count:\n",
    "        last_exp_count = len(dispatched_exps)\n",
    "        print(last_exp_count, \"experiments have been dispatched.\")\n",
    "print(\"Orch has stopped.\")"
   ]
  },
  {
   "cell_type": "code",
   "execution_count": 16,
   "id": "8db8aca1-e037-4102-b926-72547b185b43",
   "metadata": {
    "execution": {
     "iopub.execute_input": "2022-07-12T19:25:37.639859Z",
     "iopub.status.busy": "2022-07-12T19:25:37.639505Z",
     "iopub.status.idle": "2022-07-12T19:25:37.647398Z",
     "shell.execute_reply": "2022-07-12T19:25:37.647005Z",
     "shell.execute_reply.started": "2022-07-12T19:25:37.639836Z"
    },
    "tags": []
   },
   "outputs": [
    {
     "data": {
      "text/plain": [
       "True"
      ]
     },
     "execution_count": 16,
     "metadata": {},
     "output_type": "execute_result"
    }
   ],
   "source": [
    "# use robotic sampler 'PAL' action server as placeholder for sample database server\n",
    "acq_resp = requests.post(f\"http://{palhost}:{palport}/get_measured\", json={\"start_idx\": 0})\n",
    "acq_resp.status_code == 200"
   ]
  },
  {
   "cell_type": "code",
   "execution_count": 17,
   "id": "256f6994-ddc8-4d7a-ba86-3299e05fc567",
   "metadata": {
    "execution": {
     "iopub.execute_input": "2022-07-12T19:25:37.648461Z",
     "iopub.status.busy": "2022-07-12T19:25:37.648078Z",
     "iopub.status.idle": "2022-07-12T19:25:37.653473Z",
     "shell.execute_reply": "2022-07-12T19:25:37.652862Z",
     "shell.execute_reply.started": "2022-07-12T19:25:37.648440Z"
    },
    "tags": []
   },
   "outputs": [
    {
     "data": {
      "text/plain": [
       "[{'Ni': 0.0,\n",
       "  'Fe': 0.1,\n",
       "  'La': 0.8,\n",
       "  'Ce': 0.0,\n",
       "  'Co': 0.0,\n",
       "  'Ta': 0.1,\n",
       "  'solution_ph': 13,\n",
       "  'eta3': 0.411175,\n",
       "  'eta10': 0.502737},\n",
       " {'Ni': 0.0,\n",
       "  'Fe': 0.3,\n",
       "  'La': 0.3,\n",
       "  'Ce': 0.0,\n",
       "  'Co': 0.4,\n",
       "  'Ta': 0.0,\n",
       "  'solution_ph': 13,\n",
       "  'eta3': 0.361331,\n",
       "  'eta10': 0.397913},\n",
       " {'Ni': 0.0,\n",
       "  'Fe': 0.0,\n",
       "  'La': 0.2,\n",
       "  'Ce': 0.0,\n",
       "  'Co': 0.2,\n",
       "  'Ta': 0.6,\n",
       "  'solution_ph': 13,\n",
       "  'eta3': 0.41637,\n",
       "  'eta10': 0.462762},\n",
       " {'Ni': 0.0,\n",
       "  'Fe': 0.0,\n",
       "  'La': 0.4,\n",
       "  'Ce': 0.3,\n",
       "  'Co': 0.2,\n",
       "  'Ta': 0.1,\n",
       "  'solution_ph': 13,\n",
       "  'eta3': 0.395245,\n",
       "  'eta10': 0.456316},\n",
       " {'Ni': 0.2,\n",
       "  'Fe': 0.0,\n",
       "  'La': 0.3,\n",
       "  'Ce': 0.5,\n",
       "  'Co': 0.0,\n",
       "  'Ta': 0.0,\n",
       "  'solution_ph': 13,\n",
       "  'eta3': 0.417371,\n",
       "  'eta10': 0.494323}]"
      ]
     },
     "execution_count": 17,
     "metadata": {},
     "output_type": "execute_result"
    }
   ],
   "source": [
    "acq_resp.json()"
   ]
  },
  {
   "cell_type": "code",
   "execution_count": 18,
   "id": "9ff7ce47-6ff2-42a9-ba83-3adac31fa1e2",
   "metadata": {
    "execution": {
     "iopub.execute_input": "2022-07-12T19:25:37.654713Z",
     "iopub.status.busy": "2022-07-12T19:25:37.654243Z",
     "iopub.status.idle": "2022-07-12T19:25:37.658340Z",
     "shell.execute_reply": "2022-07-12T19:25:37.657972Z",
     "shell.execute_reply.started": "2022-07-12T19:25:37.654691Z"
    },
    "tags": []
   },
   "outputs": [
    {
     "data": {
      "text/plain": [
       "[1658, 1242, 1952, 1466, 894]"
      ]
     },
     "execution_count": 18,
     "metadata": {},
     "output_type": "execute_result"
    }
   ],
   "source": [
    "# acquire new batch of 5 random comps\n",
    "random.seed(0)\n",
    "batch2_inds = random.sample(range(len(comp_space)), 10)[5:]\n",
    "batch2_inds"
   ]
  },
  {
   "cell_type": "code",
   "execution_count": 19,
   "id": "88156ce0-da73-4cca-b045-779b61229a30",
   "metadata": {
    "execution": {
     "iopub.execute_input": "2022-07-12T19:25:37.659387Z",
     "iopub.status.busy": "2022-07-12T19:25:37.659062Z",
     "iopub.status.idle": "2022-07-12T19:25:37.662649Z",
     "shell.execute_reply": "2022-07-12T19:25:37.662004Z",
     "shell.execute_reply.started": "2022-07-12T19:25:37.659367Z"
    },
    "tags": []
   },
   "outputs": [
    {
     "data": {
      "text/plain": [
       "[1577, 1722, 165, 1060, 1990]"
      ]
     },
     "execution_count": 19,
     "metadata": {},
     "output_type": "execute_result"
    }
   ],
   "source": [
    "# original seed indices\n",
    "comp_inds"
   ]
  },
  {
   "cell_type": "code",
   "execution_count": 20,
   "id": "c7a49224-8b61-4953-8aaa-2c037b040cca",
   "metadata": {
    "execution": {
     "iopub.execute_input": "2022-07-12T19:25:37.663671Z",
     "iopub.status.busy": "2022-07-12T19:25:37.663368Z",
     "iopub.status.idle": "2022-07-12T19:25:37.667573Z",
     "shell.execute_reply": "2022-07-12T19:25:37.667124Z",
     "shell.execute_reply.started": "2022-07-12T19:25:37.663650Z"
    },
    "tags": []
   },
   "outputs": [],
   "source": [
    "# create sequence object for holding experiments\n",
    "sequence = Sequence(sequence_name='seed_sequence')\n",
    "\n",
    "# populate sequence's experiment list\n",
    "for i in batch2_inds:\n",
    "    sequence.experiment_plan_list.append(\n",
    "        ExperimentTemplate(\n",
    "            experiment_name=\"SIM_measure_CP\",\n",
    "            experiment_params={\n",
    "                \"solution_ph\": 13,\n",
    "                \"elements\": [\"Ni\", \"Fe\", \"La\", \"Ce\", \"Co\", \"Ta\"],\n",
    "                \"element_fracs\": comp_space[i],\n",
    "            },\n",
    "        )\n",
    "    )"
   ]
  },
  {
   "cell_type": "code",
   "execution_count": 21,
   "id": "d938f0dc-4c72-422a-83e0-939855403e22",
   "metadata": {
    "execution": {
     "iopub.execute_input": "2022-07-12T19:25:37.668239Z",
     "iopub.status.busy": "2022-07-12T19:25:37.668140Z",
     "iopub.status.idle": "2022-07-12T19:25:37.673004Z",
     "shell.execute_reply": "2022-07-12T19:25:37.672764Z",
     "shell.execute_reply.started": "2022-07-12T19:25:37.668230Z"
    },
    "tags": []
   },
   "outputs": [
    {
     "data": {
      "text/plain": [
       "True"
      ]
     },
     "execution_count": 21,
     "metadata": {},
     "output_type": "execute_result"
    }
   ],
   "source": [
    "# send sequence to Orchestrator\n",
    "seq_req = requests.post(f\"http://{orchhost}:{orchport}/append_sequence\", json={\"sequence\": sequence.as_dict()})\n",
    "seq_req.status_code == 200  # successful post request"
   ]
  },
  {
   "cell_type": "code",
   "execution_count": 22,
   "id": "fab8a60f-04e8-48d9-8a4b-8e4e686fe9ef",
   "metadata": {
    "execution": {
     "iopub.execute_input": "2022-07-12T19:25:37.673464Z",
     "iopub.status.busy": "2022-07-12T19:25:37.673368Z",
     "iopub.status.idle": "2022-07-12T19:25:37.677266Z",
     "shell.execute_reply": "2022-07-12T19:25:37.676880Z",
     "shell.execute_reply.started": "2022-07-12T19:25:37.673455Z"
    },
    "tags": []
   },
   "outputs": [
    {
     "data": {
      "text/plain": [
       "True"
      ]
     },
     "execution_count": 22,
     "metadata": {},
     "output_type": "execute_result"
    }
   ],
   "source": [
    "# start Orch (begin or resume dispatching sequence/experiment/action queues)\n",
    "orch_start = requests.post(f\"http://{orchhost}:{orchport}/start\")\n",
    "orch_start.status_code == 200"
   ]
  },
  {
   "cell_type": "code",
   "execution_count": 23,
   "id": "da957b9c-9f78-40c6-a42d-ad7146d0ba74",
   "metadata": {
    "execution": {
     "iopub.execute_input": "2022-07-12T19:25:37.677851Z",
     "iopub.status.busy": "2022-07-12T19:25:37.677741Z",
     "iopub.status.idle": "2022-07-12T19:28:29.334198Z",
     "shell.execute_reply": "2022-07-12T19:28:29.333758Z",
     "shell.execute_reply.started": "2022-07-12T19:25:37.677840Z"
    },
    "tags": []
   },
   "outputs": [
    {
     "name": "stdout",
     "output_type": "stream",
     "text": [
      "1 experiments have been dispatched.\n",
      "2 experiments have been dispatched.\n",
      "3 experiments have been dispatched.\n",
      "4 experiments have been dispatched.\n",
      "5 experiments have been dispatched.\n",
      "Orch has stopped.\n"
     ]
    }
   ],
   "source": [
    "orch_status = requests.post(f\"http://{orchhost}:{orchport}/get_status\")\n",
    "\n",
    "dispatched_exps = set()\n",
    "last_exp_count = 0\n",
    "while orch_status.json()[\"loop_state\"] == \"started\":\n",
    "    sleep(2)\n",
    "    orch_status = requests.post(f\"http://{orchhost}:{orchport}/get_status\")\n",
    "    active_dict = orch_status.json()['active_dict']\n",
    "    for act_uuid, act_dict in active_dict.items():\n",
    "        dispatched_exps.add(act_dict['act']['experiment_uuid'])\n",
    "    if len(dispatched_exps) != last_exp_count:\n",
    "        last_exp_count = len(dispatched_exps)\n",
    "        print(last_exp_count, \"experiments have been dispatched.\")\n",
    "print(\"Orch has stopped.\")"
   ]
  },
  {
   "cell_type": "code",
   "execution_count": 24,
   "id": "1e8d3e9f-8859-4913-9371-5b35685955f0",
   "metadata": {
    "execution": {
     "iopub.execute_input": "2022-07-12T19:28:29.335192Z",
     "iopub.status.busy": "2022-07-12T19:28:29.334891Z",
     "iopub.status.idle": "2022-07-12T19:28:29.342225Z",
     "shell.execute_reply": "2022-07-12T19:28:29.341824Z",
     "shell.execute_reply.started": "2022-07-12T19:28:29.335172Z"
    },
    "tags": []
   },
   "outputs": [
    {
     "data": {
      "text/plain": [
       "True"
      ]
     },
     "execution_count": 24,
     "metadata": {},
     "output_type": "execute_result"
    }
   ],
   "source": [
    "# change 'start_idx' query parameter to slice list of measured space\n",
    "start_idx = 5\n",
    "acq2_resp = requests.post(f\"http://{palhost}:{palport}/get_measured?start_idx={start_idx}\")\n",
    "acq2_resp.status_code == 200"
   ]
  },
  {
   "cell_type": "code",
   "execution_count": 25,
   "id": "384310c7-85ea-4730-8bdb-bd3782c606db",
   "metadata": {
    "execution": {
     "iopub.execute_input": "2022-07-12T19:28:29.343187Z",
     "iopub.status.busy": "2022-07-12T19:28:29.342865Z",
     "iopub.status.idle": "2022-07-12T19:28:29.347968Z",
     "shell.execute_reply": "2022-07-12T19:28:29.347490Z",
     "shell.execute_reply.started": "2022-07-12T19:28:29.343167Z"
    },
    "tags": []
   },
   "outputs": [
    {
     "data": {
      "text/plain": [
       "[{'Ni': 0.1,\n",
       "  'Fe': 0.0,\n",
       "  'La': 0.0,\n",
       "  'Ce': 0.1,\n",
       "  'Co': 0.8,\n",
       "  'Ta': 0.0,\n",
       "  'solution_ph': 13,\n",
       "  'eta3': 0.379036,\n",
       "  'eta10': 0.420298},\n",
       " {'Ni': 0.2,\n",
       "  'Fe': 0.0,\n",
       "  'La': 0.2,\n",
       "  'Ce': 0.0,\n",
       "  'Co': 0.3,\n",
       "  'Ta': 0.3,\n",
       "  'solution_ph': 13,\n",
       "  'eta3': 0.395399,\n",
       "  'eta10': 0.440602},\n",
       " {'Ni': 0.2,\n",
       "  'Fe': 0.0,\n",
       "  'La': 0.3,\n",
       "  'Ce': 0.0,\n",
       "  'Co': 0.0,\n",
       "  'Ta': 0.5,\n",
       "  'solution_ph': 13,\n",
       "  'eta3': 0.373508,\n",
       "  'eta10': 0.42117},\n",
       " {'Ni': 0.1,\n",
       "  'Fe': 0.0,\n",
       "  'La': 0.2,\n",
       "  'Ce': 0.1,\n",
       "  'Co': 0.0,\n",
       "  'Ta': 0.6,\n",
       "  'solution_ph': 13,\n",
       "  'eta3': 0.403961,\n",
       "  'eta10': 0.458812},\n",
       " {'Ni': 0.0,\n",
       "  'Fe': 0.2,\n",
       "  'La': 0.5,\n",
       "  'Ce': 0.1,\n",
       "  'Co': 0.2,\n",
       "  'Ta': 0.0,\n",
       "  'solution_ph': 13,\n",
       "  'eta3': 0.372126,\n",
       "  'eta10': 0.407029}]"
      ]
     },
     "execution_count": 25,
     "metadata": {},
     "output_type": "execute_result"
    }
   ],
   "source": [
    "acq2_resp.json()"
   ]
  },
  {
   "cell_type": "code",
   "execution_count": 26,
   "id": "d5ef3b95-57cd-463f-8439-c7054ee388c9",
   "metadata": {
    "execution": {
     "iopub.execute_input": "2022-07-12T19:28:29.348976Z",
     "iopub.status.busy": "2022-07-12T19:28:29.348622Z",
     "iopub.status.idle": "2022-07-12T19:28:29.355519Z",
     "shell.execute_reply": "2022-07-12T19:28:29.355031Z",
     "shell.execute_reply.started": "2022-07-12T19:28:29.348956Z"
    },
    "tags": []
   },
   "outputs": [
    {
     "data": {
      "text/plain": [
       "True"
      ]
     },
     "execution_count": 26,
     "metadata": {},
     "output_type": "execute_result"
    }
   ],
   "source": [
    "# further sequences/experiments on the same space/plate will aggregate results on the PAL server\n",
    "# loading a new space (i.e. issuing a new experiment with different elements+pH from previous) will reset the aggregated results\n",
    "# results should be queried prior to changing plates\n",
    "\n",
    "# the following request manually resets the list of acquired samples on the PAL server\n",
    "reset_resp = requests.post(f\"http://{palhost}:{palport}/clear_measured\")\n",
    "reset_resp.status_code == 200"
   ]
  },
  {
   "cell_type": "code",
   "execution_count": null,
   "id": "ab48041e-6ade-4a46-ba26-8bafe30585e8",
   "metadata": {},
   "outputs": [],
   "source": []
  }
 ],
 "metadata": {
  "kernelspec": {
   "display_name": "Python 3 (ipykernel)",
   "language": "python",
   "name": "python3"
  },
  "language_info": {
   "codemirror_mode": {
    "name": "ipython",
    "version": 3
   },
   "file_extension": ".py",
   "mimetype": "text/x-python",
   "name": "python",
   "nbconvert_exporter": "python",
   "pygments_lexer": "ipython3",
   "version": "3.9.13"
  },
  "vscode": {
   "interpreter": {
    "hash": "cb58d5e250e43b455503701ac4617daace2b46fdefd86ea52be653ea293a7c81"
   }
  },
  "widgets": {
   "application/vnd.jupyter.widget-state+json": {
    "state": {},
    "version_major": 2,
    "version_minor": 0
   }
  }
 },
 "nbformat": 4,
 "nbformat_minor": 5
}
