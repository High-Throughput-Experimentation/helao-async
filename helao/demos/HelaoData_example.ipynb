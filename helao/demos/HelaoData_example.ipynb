{
 "cells": [
  {
   "cell_type": "code",
   "execution_count": 1,
   "id": "205ed7d0-3498-4069-898c-065ba0b416fb",
   "metadata": {
    "tags": []
   },
   "outputs": [],
   "source": [
    "import sys\n",
    "import os\n",
    "cwd = os.getcwd()\n",
    "sourcedir = os.sep.join(cwd.split(os.sep)[:-3])\n",
    "sys.path.append(os.path.join(sourcedir, \"helao-async\"))\n",
    "sys.path.append(os.path.join(sourcedir, \"helao-core\"))\n",
    "\n",
    "from glob import glob\n",
    "from datetime import datetime\n",
    "import pandas as pd\n",
    "import matplotlib.pyplot as plt"
   ]
  },
  {
   "cell_type": "code",
   "execution_count": 4,
   "id": "03b943aa-cc71-428d-8038-1fad9e331c3b",
   "metadata": {
    "tags": []
   },
   "outputs": [],
   "source": [
    "from helao.helpers.read_hlo import HelaoData"
   ]
  },
  {
   "cell_type": "markdown",
   "id": "62b7dfe2-3b34-4218-a7b8-f2926ba47121",
   "metadata": {},
   "source": [
    "# CO2 sensor acquisitions from a single sequence"
   ]
  },
  {
   "cell_type": "code",
   "execution_count": 5,
   "id": "101d460f-f0e7-4439-b1e0-58825d50c56a",
   "metadata": {
    "tags": []
   },
   "outputs": [],
   "source": [
    "seqzip_path = \"data/130047__CCSI_validation_KOH_procedure__nolabel.zip\""
   ]
  },
  {
   "attachments": {},
   "cell_type": "markdown",
   "id": "8d5c3d1e",
   "metadata": {},
   "source": [
    "#### load data parser with path to sequence zip, helao yml, or any directory containing a helao yml"
   ]
  },
  {
   "cell_type": "code",
   "execution_count": 6,
   "id": "e284662c-b38f-4f93-aa65-4c1a17e8c024",
   "metadata": {
    "tags": []
   },
   "outputs": [],
   "source": [
    "hd = HelaoData(seqzip_path)"
   ]
  },
  {
   "attachments": {},
   "cell_type": "markdown",
   "id": "70b87a17",
   "metadata": {},
   "source": [
    "#### use HelaoData.ls attribute to list child object representations with index"
   ]
  },
  {
   "cell_type": "code",
   "execution_count": 6,
   "id": "641ff1d6-4e96-4420-9ace-9d3443cfa11b",
   "metadata": {
    "execution": {
     "iopub.execute_input": "2023-01-11T23:47:55.895222Z",
     "iopub.status.busy": "2023-01-11T23:47:55.894590Z",
     "iopub.status.idle": "2023-01-11T23:47:55.903662Z",
     "shell.execute_reply": "2023-01-11T23:47:55.901640Z",
     "shell.execute_reply.started": "2023-01-11T23:47:55.895167Z"
    },
    "tags": []
   },
   "outputs": [
    {
     "name": "stdout",
     "output_type": "stream",
     "text": [
      "sequence: CCSI_validation_KOH_procedure @ 2023-01-11 13:00:47.721959 CONTAINING 12 children\n",
      "  [0] experiment: CCSI_sub_liquidfill_syringes @ 2023-01-11 13:00:48.768959 CONTAINING 22 children\n",
      "  [1] experiment: CCSI_sub_drain_and_clean @ 2023-01-11 13:06:26.668959 CONTAINING 26 children\n",
      "  [2] experiment: CCSI_sub_headspace_purge_and_measure @ 2023-01-11 13:08:52.875959 CONTAINING 17 children\n",
      "  [3] experiment: CCSI_sub_peripumpoff @ 2023-01-11 13:10:02.748959 CONTAINING 1 children\n",
      "  [4] experiment: CCSI_sub_liquidfill_syringes @ 2023-01-11 13:10:03.492959 CONTAINING 22 children\n",
      "  [5] experiment: CCSI_sub_drain_and_clean @ 2023-01-11 13:15:41.062959 CONTAINING 26 children\n",
      "  [6] experiment: CCSI_sub_headspace_purge_and_measure @ 2023-01-11 13:18:08.206959 CONTAINING 17 children\n",
      "  [7] experiment: CCSI_sub_peripumpoff @ 2023-01-11 13:19:17.896959 CONTAINING 1 children\n",
      "  [8] experiment: CCSI_sub_liquidfill_syringes @ 2023-01-11 13:19:18.616959 CONTAINING 22 children\n",
      "  [9] experiment: CCSI_sub_drain_and_clean @ 2023-01-11 13:24:56.443959 CONTAINING 26 children\n",
      "  [10] experiment: CCSI_sub_headspace_purge_and_measure @ 2023-01-11 13:27:22.977959 CONTAINING 17 children\n",
      "  [11] experiment: CCSI_sub_peripumpoff @ 2023-01-11 13:28:32.872959 CONTAINING 1 children\n"
     ]
    }
   ],
   "source": [
    "hd.ls"
   ]
  },
  {
   "attachments": {},
   "cell_type": "markdown",
   "id": "2e37a8a3",
   "metadata": {},
   "source": [
    "#### access an iterable list of experiment objects"
   ]
  },
  {
   "cell_type": "code",
   "execution_count": 7,
   "id": "a4db1ade-37f5-4960-8056-7f5375433e4b",
   "metadata": {
    "execution": {
     "iopub.execute_input": "2023-01-11T23:48:41.606561Z",
     "iopub.status.busy": "2023-01-11T23:48:41.605900Z",
     "iopub.status.idle": "2023-01-11T23:48:41.612372Z",
     "shell.execute_reply": "2023-01-11T23:48:41.611807Z",
     "shell.execute_reply.started": "2023-01-11T23:48:41.606504Z"
    },
    "tags": []
   },
   "outputs": [
    {
     "data": {
      "text/plain": [
       "[experiment: CCSI_sub_liquidfill_syringes @ 2023-01-11 13:00:48.768959 CONTAINING 22 children,\n",
       " experiment: CCSI_sub_drain_and_clean @ 2023-01-11 13:06:26.668959 CONTAINING 26 children,\n",
       " experiment: CCSI_sub_headspace_purge_and_measure @ 2023-01-11 13:08:52.875959 CONTAINING 17 children,\n",
       " experiment: CCSI_sub_peripumpoff @ 2023-01-11 13:10:02.748959 CONTAINING 1 children,\n",
       " experiment: CCSI_sub_liquidfill_syringes @ 2023-01-11 13:10:03.492959 CONTAINING 22 children,\n",
       " experiment: CCSI_sub_drain_and_clean @ 2023-01-11 13:15:41.062959 CONTAINING 26 children,\n",
       " experiment: CCSI_sub_headspace_purge_and_measure @ 2023-01-11 13:18:08.206959 CONTAINING 17 children,\n",
       " experiment: CCSI_sub_peripumpoff @ 2023-01-11 13:19:17.896959 CONTAINING 1 children,\n",
       " experiment: CCSI_sub_liquidfill_syringes @ 2023-01-11 13:19:18.616959 CONTAINING 22 children,\n",
       " experiment: CCSI_sub_drain_and_clean @ 2023-01-11 13:24:56.443959 CONTAINING 26 children,\n",
       " experiment: CCSI_sub_headspace_purge_and_measure @ 2023-01-11 13:27:22.977959 CONTAINING 17 children,\n",
       " experiment: CCSI_sub_peripumpoff @ 2023-01-11 13:28:32.872959 CONTAINING 1 children]"
      ]
     },
     "execution_count": 7,
     "metadata": {},
     "output_type": "execute_result"
    }
   ],
   "source": [
    "hd.exp"
   ]
  },
  {
   "attachments": {},
   "cell_type": "markdown",
   "id": "ba14c3ec",
   "metadata": {},
   "source": [
    "#### find all experiments matching a given name"
   ]
  },
  {
   "cell_type": "code",
   "execution_count": 8,
   "id": "e6033b9a-1e14-4d04-9ca4-d88b3841d0ce",
   "metadata": {
    "execution": {
     "iopub.execute_input": "2023-01-11T23:49:15.458167Z",
     "iopub.status.busy": "2023-01-11T23:49:15.457500Z",
     "iopub.status.idle": "2023-01-11T23:49:15.466573Z",
     "shell.execute_reply": "2023-01-11T23:49:15.464689Z",
     "shell.execute_reply.started": "2023-01-11T23:49:15.458087Z"
    },
    "tags": []
   },
   "outputs": [],
   "source": [
    "drain_exps = [x for x in hd.exp if x.name==\"CCSI_sub_drain_and_clean\"]"
   ]
  },
  {
   "cell_type": "code",
   "execution_count": 9,
   "id": "de316f86-ff33-4985-909b-d75ded574b10",
   "metadata": {
    "execution": {
     "iopub.execute_input": "2023-01-11T23:49:19.158049Z",
     "iopub.status.busy": "2023-01-11T23:49:19.157417Z",
     "iopub.status.idle": "2023-01-11T23:49:19.163234Z",
     "shell.execute_reply": "2023-01-11T23:49:19.163005Z",
     "shell.execute_reply.started": "2023-01-11T23:49:19.157993Z"
    },
    "tags": []
   },
   "outputs": [
    {
     "data": {
      "text/plain": [
       "[experiment: CCSI_sub_drain_and_clean @ 2023-01-11 13:06:26.668959 CONTAINING 26 children,\n",
       " experiment: CCSI_sub_drain_and_clean @ 2023-01-11 13:15:41.062959 CONTAINING 26 children,\n",
       " experiment: CCSI_sub_drain_and_clean @ 2023-01-11 13:24:56.443959 CONTAINING 26 children]"
      ]
     },
     "execution_count": 9,
     "metadata": {},
     "output_type": "execute_result"
    }
   ],
   "source": [
    "drain_exps"
   ]
  },
  {
   "attachments": {},
   "cell_type": "markdown",
   "id": "f1be2fb2",
   "metadata": {},
   "source": [
    "#### list the child objects of one experiment, i.e. actions"
   ]
  },
  {
   "cell_type": "code",
   "execution_count": 10,
   "id": "3ac0136f-5204-45ce-a926-d88476d6438f",
   "metadata": {
    "execution": {
     "iopub.execute_input": "2023-01-11T23:49:23.942401Z",
     "iopub.status.busy": "2023-01-11T23:49:23.941739Z",
     "iopub.status.idle": "2023-01-11T23:49:23.950793Z",
     "shell.execute_reply": "2023-01-11T23:49:23.949118Z",
     "shell.execute_reply.started": "2023-01-11T23:49:23.942343Z"
    },
    "tags": []
   },
   "outputs": [
    {
     "name": "stdout",
     "output_type": "stream",
     "text": [
      "experiment: CCSI_sub_drain_and_clean @ 2023-01-11 13:06:26.668959 CONTAINING 26 children\n",
      "  [0] action: pump @ 2023-01-11 13:06:26.766959 CONTAINING 0 children\n",
      "  [1] action: liquidvalve @ 2023-01-11 13:07:12.551959 CONTAINING 0 children\n",
      "  [2] action: wait @ 2023-01-11 13:07:13.238959 CONTAINING 0 children\n",
      "  [3] action: infuse @ 2023-01-11 13:07:13.624959 CONTAINING 0 children\n",
      "  [4] action: wait @ 2023-01-11 13:07:45.041959 CONTAINING 0 children\n",
      "  [5] action: gasvalve @ 2023-01-11 13:07:45.482959 CONTAINING 0 children\n",
      "  [6] action: wait @ 2023-01-11 13:07:46.172959 CONTAINING 0 children\n",
      "  [7] action: withdraw @ 2023-01-11 13:08:16.335959 CONTAINING 0 children\n",
      "  [8] action: wait @ 2023-01-11 13:08:17.768959 CONTAINING 0 children\n",
      "  [9] action: liquidvalve @ 2023-01-11 13:08:18.185959 CONTAINING 0 children\n",
      "  [10] action: wait @ 2023-01-11 13:08:18.852959 CONTAINING 0 children\n",
      "  [11] action: wait @ 2023-01-11 13:06:27.475959 CONTAINING 0 children\n",
      "  [12] action: gasvalve @ 2023-01-11 13:08:19.248959 CONTAINING 0 children\n",
      "  [13] action: gasvalve @ 2023-01-11 13:08:19.935959 CONTAINING 0 children\n",
      "  [14] action: gasvalve @ 2023-01-11 13:08:20.618959 CONTAINING 0 children\n",
      "  [15] action: wait @ 2023-01-11 13:08:21.292959 CONTAINING 0 children\n",
      "  [16] action: acquire_co2 @ 2023-01-11 13:08:21.718959 CONTAINING 0 children\n",
      "  [17] action: pump @ 2023-01-11 13:08:22.182959 CONTAINING 0 children\n",
      "  [18] action: gasvalve @ 2023-01-11 13:06:27.879959 CONTAINING 0 children\n",
      "  [19] action: liquidvalve @ 2023-01-11 13:06:28.591959 CONTAINING 0 children\n",
      "  [20] action: gasvalve @ 2023-01-11 13:06:29.272959 CONTAINING 0 children\n",
      "  [21] action: wait @ 2023-01-11 13:06:29.958959 CONTAINING 0 children\n",
      "  [22] action: wait @ 2023-01-11 13:07:10.093959 CONTAINING 0 children\n",
      "  [23] action: liquidvalve @ 2023-01-11 13:07:10.518959 CONTAINING 0 children\n",
      "  [24] action: gasvalve @ 2023-01-11 13:07:11.195959 CONTAINING 0 children\n",
      "  [25] action: gasvalve @ 2023-01-11 13:07:11.879959 CONTAINING 0 children\n"
     ]
    }
   ],
   "source": [
    "drain_exps[0].ls"
   ]
  },
  {
   "attachments": {},
   "cell_type": "markdown",
   "id": "9e07631b",
   "metadata": {},
   "source": [
    "#### get action parameters (same attribute for seq and exp objects)"
   ]
  },
  {
   "cell_type": "code",
   "execution_count": 11,
   "id": "47e18883-cf12-4c50-a721-e2ccb9881d59",
   "metadata": {
    "execution": {
     "iopub.execute_input": "2023-01-11T23:49:46.191269Z",
     "iopub.status.busy": "2023-01-11T23:49:46.190636Z",
     "iopub.status.idle": "2023-01-11T23:49:46.196647Z",
     "shell.execute_reply": "2023-01-11T23:49:46.196415Z",
     "shell.execute_reply.started": "2023-01-11T23:49:46.191212Z"
    },
    "tags": []
   },
   "outputs": [
    {
     "data": {
      "text/plain": [
       "{'duration': 30, 'acquisition_rate': 1, 'action_version': 1}"
      ]
     },
     "execution_count": 11,
     "metadata": {},
     "output_type": "execute_result"
    }
   ],
   "source": [
    "drain_exps[0].act[16].params"
   ]
  },
  {
   "cell_type": "code",
   "execution_count": 12,
   "id": "3ffd2755",
   "metadata": {},
   "outputs": [
    {
     "data": {
      "text/plain": [
       "{'Waterclean_volume_ul': 9000,\n",
       " 'Syringe_retraction_ul': 70,\n",
       " 'Syringe_rate_ulsec': 300,\n",
       " 'LiquidFillWait_s': 15,\n",
       " 'co2measure_duration': 30,\n",
       " 'co2measure_acqrate': 1,\n",
       " 'co2_ppm_thresh': 90000,\n",
       " 'purge_if': 'below',\n",
       " 'HSpurge_duration': 40}"
      ]
     },
     "execution_count": 12,
     "metadata": {},
     "output_type": "execute_result"
    }
   ],
   "source": [
    "drain_exps[0].params"
   ]
  },
  {
   "attachments": {},
   "cell_type": "markdown",
   "id": "68624434",
   "metadata": {},
   "source": [
    "#### list data files from action object"
   ]
  },
  {
   "cell_type": "code",
   "execution_count": 13,
   "id": "5008225c-c709-4969-9e64-cca79b42a787",
   "metadata": {
    "execution": {
     "iopub.execute_input": "2023-01-11T23:49:49.199864Z",
     "iopub.status.busy": "2023-01-11T23:49:49.199230Z",
     "iopub.status.idle": "2023-01-11T23:49:49.205538Z",
     "shell.execute_reply": "2023-01-11T23:49:49.205296Z",
     "shell.execute_reply.started": "2023-01-11T23:49:49.199807Z"
    },
    "tags": []
   },
   "outputs": [
    {
     "data": {
      "text/plain": [
       "['20230111.130626668959__CCSI_sub_drain_and_clean/24__0__20230111.130821718959__CO2SENSOR__acquire_co2/CO2-24.24.0.0__0.hlo']"
      ]
     },
     "execution_count": 13,
     "metadata": {},
     "output_type": "execute_result"
    }
   ],
   "source": [
    "drain_exps[0].act[16].data_files"
   ]
  },
  {
   "attachments": {},
   "cell_type": "markdown",
   "id": "bf30a1de",
   "metadata": {},
   "source": [
    "#### read data files from action object: hlo -> (metadict, datadict)"
   ]
  },
  {
   "cell_type": "code",
   "execution_count": 13,
   "id": "c5ed7e4a-2cbe-4379-909e-de33af18b753",
   "metadata": {
    "execution": {
     "iopub.execute_input": "2023-01-11T23:50:01.663381Z",
     "iopub.status.busy": "2023-01-11T23:50:01.662740Z",
     "iopub.status.idle": "2023-01-11T23:50:01.693610Z",
     "shell.execute_reply": "2023-01-11T23:50:01.692016Z",
     "shell.execute_reply.started": "2023-01-11T23:50:01.663326Z"
    }
   },
   "outputs": [],
   "source": [
    "headerdict, datadict = drain_exps[0].act[16].data"
   ]
  },
  {
   "cell_type": "code",
   "execution_count": 14,
   "id": "7e690507-f8e6-4d99-89c3-b7e92d36120a",
   "metadata": {
    "execution": {
     "iopub.execute_input": "2023-01-11T23:50:12.437260Z",
     "iopub.status.busy": "2023-01-11T23:50:12.436627Z",
     "iopub.status.idle": "2023-01-11T23:50:12.448195Z",
     "shell.execute_reply": "2023-01-11T23:50:12.446795Z",
     "shell.execute_reply.started": "2023-01-11T23:50:12.437205Z"
    },
    "tags": []
   },
   "outputs": [
    {
     "data": {
      "text/plain": [
       "{'hlo_version': '2023.01.04',\n",
       " 'action_name': 'CO2',\n",
       " 'column_headings': ['epoch_s', 'co2_ppm'],\n",
       " 'optional': {'scaling_factor': 10, 'init_co2_filtered': 7163},\n",
       " 'epoch_ns': 1673471302152959654}"
      ]
     },
     "execution_count": 14,
     "metadata": {},
     "output_type": "execute_result"
    }
   ],
   "source": [
    "headerdict"
   ]
  },
  {
   "cell_type": "code",
   "execution_count": 15,
   "id": "914f61d3-ea6c-48ca-9b73-15a4ff2d1f52",
   "metadata": {
    "execution": {
     "iopub.execute_input": "2023-01-11T23:50:15.244204Z",
     "iopub.status.busy": "2023-01-11T23:50:15.243503Z",
     "iopub.status.idle": "2023-01-11T23:50:15.255954Z",
     "shell.execute_reply": "2023-01-11T23:50:15.254130Z",
     "shell.execute_reply.started": "2023-01-11T23:50:15.244146Z"
    },
    "tags": []
   },
   "outputs": [
    {
     "data": {
      "text/plain": [
       "[81990,\n",
       " 82670,\n",
       " 85370,\n",
       " 89120,\n",
       " 92520,\n",
       " 93410,\n",
       " 93300,\n",
       " 92300,\n",
       " 90730,\n",
       " 88160,\n",
       " 87420,\n",
       " 85370,\n",
       " 83840,\n",
       " 82670,\n",
       " 82490,\n",
       " 81610,\n",
       " 80640,\n",
       " 79620,\n",
       " 79150,\n",
       " 78680]"
      ]
     },
     "execution_count": 15,
     "metadata": {},
     "output_type": "execute_result"
    }
   ],
   "source": [
    "datadict['co2_ppm'][:20]"
   ]
  },
  {
   "attachments": {},
   "cell_type": "markdown",
   "id": "9c22faf3",
   "metadata": {},
   "source": [
    "#### assemble all action data and convert dictionaries to dataframes"
   ]
  },
  {
   "cell_type": "code",
   "execution_count": 16,
   "id": "a13e9245-2f7d-49c4-8860-ce146ef154fd",
   "metadata": {
    "execution": {
     "iopub.execute_input": "2023-01-11T23:50:24.851980Z",
     "iopub.status.busy": "2023-01-11T23:50:24.851346Z",
     "iopub.status.idle": "2023-01-11T23:50:24.923535Z",
     "shell.execute_reply": "2023-01-11T23:50:24.922704Z",
     "shell.execute_reply.started": "2023-01-11T23:50:24.851924Z"
    },
    "tags": []
   },
   "outputs": [],
   "source": [
    "drain_co2_dfs = []\n",
    "\n",
    "for exp in drain_exps:\n",
    "    co2_act = [x for x in exp.act if x.name==\"acquire_co2\"][0]\n",
    "    meta, data = co2_act.data\n",
    "    df = pd.DataFrame(data)\n",
    "    df[\"exp_name\"] = exp.name\n",
    "    df[\"act_name\"] = co2_act.name\n",
    "    df[\"act_datetime\"] = co2_act.timestamp\n",
    "    df[\"act_timestamp\"] = datetime.strptime(co2_act.timestamp, \"%Y-%m-%d %H:%M:%S.%f\").timestamp()\n",
    "    drain_co2_dfs.append(df)"
   ]
  },
  {
   "cell_type": "code",
   "execution_count": 17,
   "id": "932a6d89-e243-4f22-93a8-cf1a0c1d409f",
   "metadata": {
    "execution": {
     "iopub.execute_input": "2023-01-11T23:50:27.087171Z",
     "iopub.status.busy": "2023-01-11T23:50:27.086543Z",
     "iopub.status.idle": "2023-01-11T23:50:27.092251Z",
     "shell.execute_reply": "2023-01-11T23:50:27.091971Z",
     "shell.execute_reply.started": "2023-01-11T23:50:27.087114Z"
    },
    "tags": []
   },
   "outputs": [],
   "source": [
    "fulldf = pd.concat(drain_co2_dfs, axis=0)"
   ]
  },
  {
   "cell_type": "code",
   "execution_count": 18,
   "id": "bb141453-454b-4dbf-a58b-fad5f7fc5a07",
   "metadata": {
    "execution": {
     "iopub.execute_input": "2023-01-11T23:51:21.801623Z",
     "iopub.status.busy": "2023-01-11T23:51:21.800985Z",
     "iopub.status.idle": "2023-01-11T23:51:21.806455Z",
     "shell.execute_reply": "2023-01-11T23:51:21.806225Z",
     "shell.execute_reply.started": "2023-01-11T23:51:21.801566Z"
    },
    "tags": []
   },
   "outputs": [],
   "source": [
    "fulldf[\"action_time\"] = fulldf.epoch_s - fulldf.act_timestamp"
   ]
  },
  {
   "cell_type": "code",
   "execution_count": 19,
   "id": "0bfa2a42-73f6-421a-8904-2c45369ab103",
   "metadata": {
    "execution": {
     "iopub.execute_input": "2023-01-11T23:51:23.526502Z",
     "iopub.status.busy": "2023-01-11T23:51:23.525824Z",
     "iopub.status.idle": "2023-01-11T23:51:23.552348Z",
     "shell.execute_reply": "2023-01-11T23:51:23.551715Z",
     "shell.execute_reply.started": "2023-01-11T23:51:23.526446Z"
    },
    "tags": []
   },
   "outputs": [
    {
     "data": {
      "text/html": [
       "<div>\n",
       "<style scoped>\n",
       "    .dataframe tbody tr th:only-of-type {\n",
       "        vertical-align: middle;\n",
       "    }\n",
       "\n",
       "    .dataframe tbody tr th {\n",
       "        vertical-align: top;\n",
       "    }\n",
       "\n",
       "    .dataframe thead th {\n",
       "        text-align: right;\n",
       "    }\n",
       "</style>\n",
       "<table border=\"1\" class=\"dataframe\">\n",
       "  <thead>\n",
       "    <tr style=\"text-align: right;\">\n",
       "      <th></th>\n",
       "      <th>epoch_s</th>\n",
       "      <th>co2_ppm</th>\n",
       "      <th>exp_name</th>\n",
       "      <th>act_name</th>\n",
       "      <th>act_datetime</th>\n",
       "      <th>act_timestamp</th>\n",
       "      <th>action_time</th>\n",
       "    </tr>\n",
       "  </thead>\n",
       "  <tbody>\n",
       "    <tr>\n",
       "      <th>0</th>\n",
       "      <td>1.673471e+09</td>\n",
       "      <td>81990</td>\n",
       "      <td>CCSI_sub_drain_and_clean</td>\n",
       "      <td>acquire_co2</td>\n",
       "      <td>2023-01-11 13:08:21.718959</td>\n",
       "      <td>1.673471e+09</td>\n",
       "      <td>0.361022</td>\n",
       "    </tr>\n",
       "    <tr>\n",
       "      <th>1</th>\n",
       "      <td>1.673471e+09</td>\n",
       "      <td>82670</td>\n",
       "      <td>CCSI_sub_drain_and_clean</td>\n",
       "      <td>acquire_co2</td>\n",
       "      <td>2023-01-11 13:08:21.718959</td>\n",
       "      <td>1.673471e+09</td>\n",
       "      <td>1.529022</td>\n",
       "    </tr>\n",
       "    <tr>\n",
       "      <th>2</th>\n",
       "      <td>1.673471e+09</td>\n",
       "      <td>85370</td>\n",
       "      <td>CCSI_sub_drain_and_clean</td>\n",
       "      <td>acquire_co2</td>\n",
       "      <td>2023-01-11 13:08:21.718959</td>\n",
       "      <td>1.673471e+09</td>\n",
       "      <td>2.713022</td>\n",
       "    </tr>\n",
       "    <tr>\n",
       "      <th>3</th>\n",
       "      <td>1.673471e+09</td>\n",
       "      <td>89120</td>\n",
       "      <td>CCSI_sub_drain_and_clean</td>\n",
       "      <td>acquire_co2</td>\n",
       "      <td>2023-01-11 13:08:21.718959</td>\n",
       "      <td>1.673471e+09</td>\n",
       "      <td>3.840022</td>\n",
       "    </tr>\n",
       "    <tr>\n",
       "      <th>4</th>\n",
       "      <td>1.673471e+09</td>\n",
       "      <td>92520</td>\n",
       "      <td>CCSI_sub_drain_and_clean</td>\n",
       "      <td>acquire_co2</td>\n",
       "      <td>2023-01-11 13:08:21.718959</td>\n",
       "      <td>1.673471e+09</td>\n",
       "      <td>5.011022</td>\n",
       "    </tr>\n",
       "    <tr>\n",
       "      <th>...</th>\n",
       "      <td>...</td>\n",
       "      <td>...</td>\n",
       "      <td>...</td>\n",
       "      <td>...</td>\n",
       "      <td>...</td>\n",
       "      <td>...</td>\n",
       "      <td>...</td>\n",
       "    </tr>\n",
       "    <tr>\n",
       "      <th>22</th>\n",
       "      <td>1.673472e+09</td>\n",
       "      <td>77140</td>\n",
       "      <td>CCSI_sub_drain_and_clean</td>\n",
       "      <td>acquire_co2</td>\n",
       "      <td>2023-01-11 13:26:51.683959</td>\n",
       "      <td>1.673472e+09</td>\n",
       "      <td>26.067022</td>\n",
       "    </tr>\n",
       "    <tr>\n",
       "      <th>23</th>\n",
       "      <td>1.673472e+09</td>\n",
       "      <td>76610</td>\n",
       "      <td>CCSI_sub_drain_and_clean</td>\n",
       "      <td>acquire_co2</td>\n",
       "      <td>2023-01-11 13:26:51.683959</td>\n",
       "      <td>1.673472e+09</td>\n",
       "      <td>27.235022</td>\n",
       "    </tr>\n",
       "    <tr>\n",
       "      <th>24</th>\n",
       "      <td>1.673472e+09</td>\n",
       "      <td>75800</td>\n",
       "      <td>CCSI_sub_drain_and_clean</td>\n",
       "      <td>acquire_co2</td>\n",
       "      <td>2023-01-11 13:26:51.683959</td>\n",
       "      <td>1.673472e+09</td>\n",
       "      <td>28.370022</td>\n",
       "    </tr>\n",
       "    <tr>\n",
       "      <th>25</th>\n",
       "      <td>1.673472e+09</td>\n",
       "      <td>75010</td>\n",
       "      <td>CCSI_sub_drain_and_clean</td>\n",
       "      <td>acquire_co2</td>\n",
       "      <td>2023-01-11 13:26:51.683959</td>\n",
       "      <td>1.673472e+09</td>\n",
       "      <td>29.489022</td>\n",
       "    </tr>\n",
       "    <tr>\n",
       "      <th>26</th>\n",
       "      <td>1.673472e+09</td>\n",
       "      <td>74320</td>\n",
       "      <td>CCSI_sub_drain_and_clean</td>\n",
       "      <td>acquire_co2</td>\n",
       "      <td>2023-01-11 13:26:51.683959</td>\n",
       "      <td>1.673472e+09</td>\n",
       "      <td>30.616022</td>\n",
       "    </tr>\n",
       "  </tbody>\n",
       "</table>\n",
       "<p>80 rows × 7 columns</p>\n",
       "</div>"
      ],
      "text/plain": [
       "         epoch_s  co2_ppm                  exp_name     act_name  \\\n",
       "0   1.673471e+09    81990  CCSI_sub_drain_and_clean  acquire_co2   \n",
       "1   1.673471e+09    82670  CCSI_sub_drain_and_clean  acquire_co2   \n",
       "2   1.673471e+09    85370  CCSI_sub_drain_and_clean  acquire_co2   \n",
       "3   1.673471e+09    89120  CCSI_sub_drain_and_clean  acquire_co2   \n",
       "4   1.673471e+09    92520  CCSI_sub_drain_and_clean  acquire_co2   \n",
       "..           ...      ...                       ...          ...   \n",
       "22  1.673472e+09    77140  CCSI_sub_drain_and_clean  acquire_co2   \n",
       "23  1.673472e+09    76610  CCSI_sub_drain_and_clean  acquire_co2   \n",
       "24  1.673472e+09    75800  CCSI_sub_drain_and_clean  acquire_co2   \n",
       "25  1.673472e+09    75010  CCSI_sub_drain_and_clean  acquire_co2   \n",
       "26  1.673472e+09    74320  CCSI_sub_drain_and_clean  acquire_co2   \n",
       "\n",
       "                  act_datetime  act_timestamp  action_time  \n",
       "0   2023-01-11 13:08:21.718959   1.673471e+09     0.361022  \n",
       "1   2023-01-11 13:08:21.718959   1.673471e+09     1.529022  \n",
       "2   2023-01-11 13:08:21.718959   1.673471e+09     2.713022  \n",
       "3   2023-01-11 13:08:21.718959   1.673471e+09     3.840022  \n",
       "4   2023-01-11 13:08:21.718959   1.673471e+09     5.011022  \n",
       "..                         ...            ...          ...  \n",
       "22  2023-01-11 13:26:51.683959   1.673472e+09    26.067022  \n",
       "23  2023-01-11 13:26:51.683959   1.673472e+09    27.235022  \n",
       "24  2023-01-11 13:26:51.683959   1.673472e+09    28.370022  \n",
       "25  2023-01-11 13:26:51.683959   1.673472e+09    29.489022  \n",
       "26  2023-01-11 13:26:51.683959   1.673472e+09    30.616022  \n",
       "\n",
       "[80 rows x 7 columns]"
      ]
     },
     "execution_count": 19,
     "metadata": {},
     "output_type": "execute_result"
    }
   ],
   "source": [
    "fulldf"
   ]
  },
  {
   "attachments": {},
   "cell_type": "markdown",
   "id": "24f3d4f9",
   "metadata": {},
   "source": [
    "#### plot data series"
   ]
  },
  {
   "cell_type": "code",
   "execution_count": 20,
   "id": "45e7e01a-b2ce-4799-b7af-a96181811c5c",
   "metadata": {
    "execution": {
     "iopub.execute_input": "2023-01-11T23:51:30.495939Z",
     "iopub.status.busy": "2023-01-11T23:51:30.495301Z",
     "iopub.status.idle": "2023-01-11T23:51:30.638303Z",
     "shell.execute_reply": "2023-01-11T23:51:30.637925Z",
     "shell.execute_reply.started": "2023-01-11T23:51:30.495883Z"
    },
    "tags": []
   },
   "outputs": [
    {
     "data": {
      "image/png": "[encoded data removed]",
      "text/plain": [
       "<Figure size 640x480 with 1 Axes>"
      ]
     },
     "metadata": {},
     "output_type": "display_data"
    }
   ],
   "source": [
    "for udt in set(fulldf.act_datetime):\n",
    "    subdf = fulldf[fulldf.act_datetime==udt]\n",
    "    plt.plot(subdf['action_time'], subdf['co2_ppm'], label=udt)\n",
    "\n",
    "plt.xlabel(\"Time (s)\")\n",
    "plt.ylabel(\"CO2 level (ppm)\")\n",
    "plt.legend();"
   ]
  },
  {
   "cell_type": "code",
   "execution_count": null,
   "id": "3ac9a951-fa3d-4133-9921-ebe903bca494",
   "metadata": {},
   "outputs": [],
   "source": []
  },
  {
   "cell_type": "markdown",
   "id": "f7721bea-11ab-4586-8b03-d309ff73bf63",
   "metadata": {},
   "source": [
    "# CO2 sensor acquisitions from multiple sequences"
   ]
  },
  {
   "cell_type": "code",
   "execution_count": 21,
   "id": "96af864b-8274-4a9f-b1ba-abdc38a1a40a",
   "metadata": {
    "tags": []
   },
   "outputs": [],
   "source": [
    "koh_seqs = [x for x in glob(\"data/*.zip\") if \"nolabel\" not in x]"
   ]
  },
  {
   "cell_type": "code",
   "execution_count": 23,
   "id": "c66dab5a-80c9-4d33-9dff-5646e7abce3f",
   "metadata": {
    "tags": []
   },
   "outputs": [],
   "source": [
    "seq_dfs = []\n",
    "\n",
    "for seqzip_path in koh_seqs:\n",
    "    hd = HelaoData(seqzip_path)\n",
    "    drain_exps = [x for x in hd.exp if x.name==\"CCSI_sub_liquidfill_syringes\"]\n",
    "    drain_co2_dfs = []\n",
    "    for exp in drain_exps:\n",
    "        co2_act = [x for x in exp.act if x.name==\"acquire_co2\"][0]\n",
    "        meta, data = co2_act.data\n",
    "        df = pd.DataFrame(data)\n",
    "        df[\"exp_name\"] = exp.name\n",
    "        df[\"act_name\"] = co2_act.name\n",
    "        df[\"act_datetime\"] = co2_act.timestamp\n",
    "        df[\"act_timestamp\"] = datetime.strptime(co2_act.timestamp, \"%Y-%m-%d %H:%M:%S.%f\").timestamp()\n",
    "        df[\"seq_name\"] = hd.name\n",
    "        df[\"seq_zip\"] = os.path.basename(seqzip_path)\n",
    "        drain_co2_dfs.append(df)\n",
    "    fulldf = pd.concat(drain_co2_dfs, axis=0)\n",
    "    seq_dfs.append(fulldf)\n",
    "\n",
    "allseqdf = pd.concat(seq_dfs)\n",
    "allseqdf[\"action_time\"] = allseqdf.epoch_s - allseqdf.act_timestamp"
   ]
  },
  {
   "cell_type": "code",
   "execution_count": 24,
   "id": "83813f87-c36e-43fe-b5b1-8fc520d2e683",
   "metadata": {
    "tags": []
   },
   "outputs": [
    {
     "data": {
      "text/plain": [
       "{'2023-01-11 15:12:38.995139',\n",
       " '2023-01-11 15:23:44.499139',\n",
       " '2023-01-11 15:34:51.320139',\n",
       " '2023-01-11 15:45:58.620795'}"
      ]
     },
     "execution_count": 24,
     "metadata": {},
     "output_type": "execute_result"
    }
   ],
   "source": [
    "set(allseqdf.act_datetime)"
   ]
  },
  {
   "cell_type": "code",
   "execution_count": 25,
   "id": "51c691a7-4ae2-431f-bb91-d3f126554f65",
   "metadata": {
    "tags": []
   },
   "outputs": [
    {
     "data": {
      "image/png": "[encoded data removed]",
      "text/plain": [
       "<Figure size 640x480 with 1 Axes>"
      ]
     },
     "metadata": {},
     "output_type": "display_data"
    }
   ],
   "source": [
    "for udt in set(allseqdf.act_datetime):\n",
    "    subdf = allseqdf[allseqdf.act_datetime==udt]\n",
    "    plt.plot(subdf['action_time'], subdf['co2_ppm'], label=subdf.loc[0].seq_zip)\n",
    "\n",
    "plt.xlabel(\"Time (s)\")\n",
    "plt.ylabel(\"CO2 level (ppm)\")\n",
    "plt.legend();"
   ]
  },
  {
   "cell_type": "code",
   "execution_count": null,
   "id": "762b6595-8cef-4ece-9fe3-b826a283c889",
   "metadata": {},
   "outputs": [],
   "source": []
  }
 ],
 "metadata": {
  "kernelspec": {
   "display_name": "main",
   "language": "python",
   "name": "python3"
  },
  "language_info": {
   "codemirror_mode": {
    "name": "ipython",
    "version": 3
   },
   "file_extension": ".py",
   "mimetype": "text/x-python",
   "name": "python",
   "nbconvert_exporter": "python",
   "pygments_lexer": "ipython3",
   "version": "3.10.8"
  },
  "vscode": {
   "interpreter": {
    "hash": "cb58d5e250e43b455503701ac4617daace2b46fdefd86ea52be653ea293a7c81"
   }
  }
 },
 "nbformat": 4,
 "nbformat_minor": 5
}
