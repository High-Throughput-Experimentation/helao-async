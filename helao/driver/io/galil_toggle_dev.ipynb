{
 "cells": [
  {
   "cell_type": "code",
   "execution_count": 69,
   "id": "39684651-9337-4eb1-bfcb-089476a4be4b",
   "metadata": {
    "execution": {
     "iopub.execute_input": "2022-05-31T22:58:42.414095Z",
     "iopub.status.busy": "2022-05-31T22:58:42.413326Z",
     "iopub.status.idle": "2022-05-31T22:58:42.420239Z",
     "shell.execute_reply": "2022-05-31T22:58:42.419759Z",
     "shell.execute_reply.started": "2022-05-31T22:58:42.414026Z"
    }
   },
   "outputs": [],
   "source": [
    "trigger_port=['trigport0', 'trigport1']\n",
    "trigger_name=['trigname0', 'trigname1']\n",
    "triggertype=['trigtype0', 'trigtype1']\n",
    "out_port=['outport0', 'outport1']\n",
    "out_name=['outname0', 'outname1']\n",
    "out_chan=[i for i,_ in enumerate(out_port)]\n",
    "t_on=[1000, 2000]\n",
    "t_off=[500, 1000]\n",
    "t_offset=[500, 1000]\n",
    "t_duration=[8000, 8000]\n",
    "p_trigger=7"
   ]
  },
  {
   "cell_type": "code",
   "execution_count": 74,
   "id": "ebd98286-3daf-4964-9e1b-685cb3f9ee70",
   "metadata": {
    "execution": {
     "iopub.execute_input": "2022-05-31T22:59:20.835703Z",
     "iopub.status.busy": "2022-05-31T22:59:20.834938Z",
     "iopub.status.idle": "2022-05-31T22:59:20.902759Z",
     "shell.execute_reply": "2022-05-31T22:59:20.902183Z",
     "shell.execute_reply.started": "2022-05-31T22:59:20.835619Z"
    },
    "tags": []
   },
   "outputs": [],
   "source": [
    "mainprog = Path('galil_toggle_main.dmc').read_text()\n",
    "subprog = Path('galil_toggle_sub.dmc').read_text()\n",
    "\n",
    "mainlines = mainprog.split(\"\\n\")\n",
    "subindex = [i for i,x in enumerate(mainlines) if x.strip().startswith(\"XQ\")][0]\n",
    "subline = mainlines.pop(subindex)\n",
    "\n",
    "for i in range(len(trigger_port)):\n",
    "    mainlines.insert(subindex+i+1, subline.format(subthread=i+1))\n",
    "clearbits = [i for i,x in enumerate(mainlines) if x.strip().startswith(\"CB\")]\n",
    "\n",
    "for i in clearbits:\n",
    "    mainlines[i] = '    ' + ''.join([f'CB {oc};' for oc in out_chan])\n",
    "    \n",
    "haltindex = [i for i,x in enumerate(mainlines) if x.strip().startswith(\"HX\")][0]\n",
    "mainlines.pop(haltindex)\n",
    "haltline = '    ' + ''.join([f'HX{i+1};' for i in range(len(out_chan))])\n",
    "mainlines.insert(haltindex+1, haltline)\n",
    "\n",
    "prog_parts = [\"\\n\".join(mainlines).format(p_trigger=p_trigger)] + [\n",
    "    subprog.format(\n",
    "        subthread=i + 1,\n",
    "        p_output=out_chan[i],\n",
    "        t_duration=t_duration[i],\n",
    "        t_offset=t_offset[i],\n",
    "        t_time_on=t_on[i],\n",
    "        t_time_off=t_off[i],\n",
    "    )\n",
    "    for i in range(len(trigger_port))\n",
    "]"
   ]
  },
  {
   "cell_type": "code",
   "execution_count": 75,
   "id": "faa5002d-66fc-4324-a30d-8d2a9d036e51",
   "metadata": {
    "execution": {
     "iopub.execute_input": "2022-05-31T22:59:21.048030Z",
     "iopub.status.busy": "2022-05-31T22:59:21.047294Z",
     "iopub.status.idle": "2022-05-31T22:59:21.058149Z",
     "shell.execute_reply": "2022-05-31T22:59:21.055769Z",
     "shell.execute_reply.started": "2022-05-31T22:59:21.047963Z"
    },
    "scrolled": true,
    "tags": []
   },
   "outputs": [
    {
     "name": "stdout",
     "output_type": "stream",
     "text": [
      "#main;\n",
      "    CB 0;CB 1;\n",
      "    AI 7;\n",
      "    AI -7;\n",
      "    XQ #tgl1,1;\n",
      "    XQ #tgl2,2;\n",
      "    CB 0;CB 1;\n",
      "    HX1;HX2;\n",
      "EN;\n",
      "\n",
      "#tgl1;\n",
      "    cnt1=0;\n",
      "    AT 0;CB 0;\n",
      "\tAT 500;cnt1=cnt1+500;\n",
      "    #jt1;\n",
      "    AT 0;SB 0;\n",
      "    AT 1000;CB 0;cnt1=cnt1+1000;AT 0;\n",
      "    IF (500>0);\n",
      "        AT 500;cnt1=cnt1+500;\n",
      "    ENDIF;\n",
      "    JP #jt1,(cnt1<8000)|(8000<0);\n",
      "    CB 0;\n",
      "EN;\n",
      "\n",
      "#tgl2;\n",
      "    cnt2=0;\n",
      "    AT 0;CB 1;\n",
      "\tAT 1000;cnt2=cnt2+1000;\n",
      "    #jt2;\n",
      "    AT 0;SB 1;\n",
      "    AT 2000;CB 1;cnt2=cnt2+2000;AT 0;\n",
      "    IF (1000>0);\n",
      "        AT 1000;cnt2=cnt2+1000;\n",
      "    ENDIF;\n",
      "    JP #jt2,(cnt2<8000)|(8000<0);\n",
      "    CB 1;\n",
      "EN;\n",
      "\n"
     ]
    }
   ],
   "source": [
    "print('\\n'.join(prog_parts))"
   ]
  },
  {
   "cell_type": "code",
   "execution_count": null,
   "id": "2b83d766-3c7a-4f09-b671-f01fbe3a4ac5",
   "metadata": {},
   "outputs": [],
   "source": []
  }
 ],
 "metadata": {
  "kernelspec": {
   "display_name": "Python 3 (ipykernel)",
   "language": "python",
   "name": "python3"
  },
  "language_info": {
   "codemirror_mode": {
    "name": "ipython",
    "version": 3
   },
   "file_extension": ".py",
   "mimetype": "text/x-python",
   "name": "python",
   "nbconvert_exporter": "python",
   "pygments_lexer": "ipython3",
   "version": "3.9.13"
  },
  "widgets": {
   "application/vnd.jupyter.widget-state+json": {
    "state": {},
    "version_major": 2,
    "version_minor": 0
   }
  }
 },
 "nbformat": 4,
 "nbformat_minor": 5
}
